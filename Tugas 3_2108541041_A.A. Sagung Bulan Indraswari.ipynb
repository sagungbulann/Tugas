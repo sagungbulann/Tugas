{
 "cells": [
  {
   "cell_type": "code",
   "execution_count": 227,
   "id": "a0795c5a",
   "metadata": {},
   "outputs": [],
   "source": [
    "import numpy as np"
   ]
  },
  {
   "cell_type": "code",
   "execution_count": 228,
   "id": "a2a07f98",
   "metadata": {},
   "outputs": [
    {
     "name": "stdout",
     "output_type": "stream",
     "text": [
      "[0 1 2 3 4]\n"
     ]
    }
   ],
   "source": [
    "a = np.array ([0,1,2,3,4])\n",
    "print(a)"
   ]
  },
  {
   "cell_type": "code",
   "execution_count": 229,
   "id": "2b6418b3",
   "metadata": {},
   "outputs": [
    {
     "name": "stdout",
     "output_type": "stream",
     "text": [
      "[[5 6 7 8]\n",
      " [9 8 7 6]]\n"
     ]
    }
   ],
   "source": [
    "b = np.array ([[5,6,7,8],[9,8,7,6]])\n",
    "print(b)"
   ]
  },
  {
   "cell_type": "code",
   "execution_count": 230,
   "id": "8a780b52",
   "metadata": {},
   "outputs": [
    {
     "name": "stdout",
     "output_type": "stream",
     "text": [
      "[[[0 1 2 3]\n",
      "  [4 5 6 7]]\n",
      "\n",
      " [[8 9 8 7]\n",
      "  [6 5 4 3]]\n",
      "\n",
      " [[1 2 3 4]\n",
      "  [5 6 7 8]]]\n"
     ]
    }
   ],
   "source": [
    "c = np.array ([[[0,1,2,3],[4,5,6,7]],\n",
    "               [[8,9,8,7],[6,5,4,3]],\n",
    "               [[1,2,3,4],[5,6,7,8]]])\n",
    "print(c)"
   ]
  },
  {
   "cell_type": "code",
   "execution_count": 231,
   "id": "fe254954",
   "metadata": {},
   "outputs": [
    {
     "data": {
      "text/plain": [
       "1"
      ]
     },
     "execution_count": 231,
     "metadata": {},
     "output_type": "execute_result"
    }
   ],
   "source": [
    "a.ndim"
   ]
  },
  {
   "cell_type": "code",
   "execution_count": 232,
   "id": "5cbe8ff2",
   "metadata": {},
   "outputs": [
    {
     "data": {
      "text/plain": [
       "2"
      ]
     },
     "execution_count": 232,
     "metadata": {},
     "output_type": "execute_result"
    }
   ],
   "source": [
    "b.ndim"
   ]
  },
  {
   "cell_type": "code",
   "execution_count": 233,
   "id": "e09e205a",
   "metadata": {},
   "outputs": [
    {
     "data": {
      "text/plain": [
       "(5,)"
      ]
     },
     "execution_count": 233,
     "metadata": {},
     "output_type": "execute_result"
    }
   ],
   "source": [
    "a.shape"
   ]
  },
  {
   "cell_type": "code",
   "execution_count": 234,
   "id": "fd3c813e",
   "metadata": {},
   "outputs": [
    {
     "data": {
      "text/plain": [
       "(2, 4)"
      ]
     },
     "execution_count": 234,
     "metadata": {},
     "output_type": "execute_result"
    }
   ],
   "source": [
    "b.shape"
   ]
  },
  {
   "cell_type": "code",
   "execution_count": 235,
   "id": "90513e2b",
   "metadata": {},
   "outputs": [
    {
     "data": {
      "text/plain": [
       "(3, 2, 4)"
      ]
     },
     "execution_count": 235,
     "metadata": {},
     "output_type": "execute_result"
    }
   ],
   "source": [
    "c.shape"
   ]
  },
  {
   "cell_type": "code",
   "execution_count": 236,
   "id": "fa5018a2",
   "metadata": {},
   "outputs": [
    {
     "name": "stdout",
     "output_type": "stream",
     "text": [
      "[[ 1  2  3  4]\n",
      " [ 5  6  7  8]\n",
      " [ 9 10 11 12]]\n"
     ]
    }
   ],
   "source": [
    "d = np.array([[1,2,3,4],[5,6,7,8],[9,10,11,12]])\n",
    "print(d)"
   ]
  },
  {
   "cell_type": "code",
   "execution_count": 237,
   "id": "56ed5fbe",
   "metadata": {},
   "outputs": [
    {
     "data": {
      "text/plain": [
       "4"
      ]
     },
     "execution_count": 237,
     "metadata": {},
     "output_type": "execute_result"
    }
   ],
   "source": [
    "d[0,3]"
   ]
  },
  {
   "cell_type": "code",
   "execution_count": 238,
   "id": "4f0bdbab",
   "metadata": {},
   "outputs": [
    {
     "data": {
      "text/plain": [
       "array([5, 6, 7, 8])"
      ]
     },
     "execution_count": 238,
     "metadata": {},
     "output_type": "execute_result"
    }
   ],
   "source": [
    "d[1,:]"
   ]
  },
  {
   "cell_type": "code",
   "execution_count": 239,
   "id": "08d1c1be",
   "metadata": {},
   "outputs": [
    {
     "data": {
      "text/plain": [
       "array([ 3,  7, 11])"
      ]
     },
     "execution_count": 239,
     "metadata": {},
     "output_type": "execute_result"
    }
   ],
   "source": [
    "d[:,2]"
   ]
  },
  {
   "cell_type": "code",
   "execution_count": 240,
   "id": "5a303ef6",
   "metadata": {},
   "outputs": [
    {
     "data": {
      "text/plain": [
       "array([2, 3])"
      ]
     },
     "execution_count": 240,
     "metadata": {},
     "output_type": "execute_result"
    }
   ],
   "source": [
    "d[0,1:3]"
   ]
  },
  {
   "cell_type": "code",
   "execution_count": 241,
   "id": "eb95ef3d",
   "metadata": {},
   "outputs": [
    {
     "name": "stdout",
     "output_type": "stream",
     "text": [
      "[[100   2   3   4]\n",
      " [  5   6   7   8]\n",
      " [  9  10  11  12]]\n"
     ]
    }
   ],
   "source": [
    "d[0,0] = 100\n",
    "print(d)"
   ]
  },
  {
   "cell_type": "code",
   "execution_count": 242,
   "id": "0931d1f9",
   "metadata": {},
   "outputs": [
    {
     "data": {
      "text/plain": [
       "array([[1., 1., 1.],\n",
       "       [1., 1., 1.]])"
      ]
     },
     "execution_count": 242,
     "metadata": {},
     "output_type": "execute_result"
    }
   ],
   "source": [
    "np.ones((2,3))"
   ]
  },
  {
   "cell_type": "code",
   "execution_count": 243,
   "id": "b1b24aa7",
   "metadata": {},
   "outputs": [
    {
     "data": {
      "text/plain": [
       "array([[0., 0.],\n",
       "       [0., 0.],\n",
       "       [0., 0.]])"
      ]
     },
     "execution_count": 243,
     "metadata": {},
     "output_type": "execute_result"
    }
   ],
   "source": [
    "np.zeros((3,2))"
   ]
  },
  {
   "cell_type": "code",
   "execution_count": 244,
   "id": "e4dda4e5",
   "metadata": {},
   "outputs": [
    {
     "data": {
      "text/plain": [
       "array([[1., 0., 0., 0.],\n",
       "       [0., 1., 0., 0.],\n",
       "       [0., 0., 1., 0.],\n",
       "       [0., 0., 0., 1.]])"
      ]
     },
     "execution_count": 244,
     "metadata": {},
     "output_type": "execute_result"
    }
   ],
   "source": [
    "np.identity(4)"
   ]
  },
  {
   "cell_type": "code",
   "execution_count": 245,
   "id": "c280d34c",
   "metadata": {},
   "outputs": [
    {
     "data": {
      "text/plain": [
       "array([[[1., 1., 1., 1.],\n",
       "        [1., 1., 1., 1.],\n",
       "        [1., 1., 1., 1.]],\n",
       "\n",
       "       [[1., 1., 1., 1.],\n",
       "        [1., 1., 1., 1.],\n",
       "        [1., 1., 1., 1.]]])"
      ]
     },
     "execution_count": 245,
     "metadata": {},
     "output_type": "execute_result"
    }
   ],
   "source": [
    "np.ones((2,3,4))"
   ]
  },
  {
   "cell_type": "code",
   "execution_count": 246,
   "id": "a150d667",
   "metadata": {},
   "outputs": [
    {
     "data": {
      "text/plain": [
       "array([[9, 9],\n",
       "       [9, 9],\n",
       "       [9, 9]])"
      ]
     },
     "execution_count": 246,
     "metadata": {},
     "output_type": "execute_result"
    }
   ],
   "source": [
    "np.full((3,2),9)"
   ]
  },
  {
   "cell_type": "code",
   "execution_count": 247,
   "id": "e6ee2806",
   "metadata": {},
   "outputs": [
    {
     "data": {
      "text/plain": [
       "array([[4.67361689e-01, 3.43195766e-01, 6.23819671e-02],\n",
       "       [4.83695287e-01, 5.50265843e-01, 4.51363646e-01],\n",
       "       [9.29597100e-01, 1.76295168e-02, 2.81287239e-02],\n",
       "       [4.55574543e-04, 9.00777388e-01, 8.54599215e-01]])"
      ]
     },
     "execution_count": 247,
     "metadata": {},
     "output_type": "execute_result"
    }
   ],
   "source": [
    "np.random.rand(4,3)"
   ]
  },
  {
   "cell_type": "code",
   "execution_count": 248,
   "id": "4c5fdea5",
   "metadata": {},
   "outputs": [
    {
     "data": {
      "text/plain": [
       "array([[6, 2, 1, 6],\n",
       "       [5, 6, 8, 1],\n",
       "       [7, 8, 1, 3]])"
      ]
     },
     "execution_count": 248,
     "metadata": {},
     "output_type": "execute_result"
    }
   ],
   "source": [
    "np.random.randint(1,10,size=(3,4))"
   ]
  },
  {
   "cell_type": "code",
   "execution_count": 249,
   "id": "7ca3fa64",
   "metadata": {},
   "outputs": [
    {
     "name": "stdout",
     "output_type": "stream",
     "text": [
      "[[0. 0. 0. 0. 0. 0. 0. 0. 0. 0.]\n",
      " [0. 0. 0. 0. 0. 0. 0. 0. 0. 0.]\n",
      " [0. 0. 0. 0. 0. 0. 0. 0. 0. 0.]\n",
      " [0. 0. 0. 0. 0. 0. 0. 0. 0. 0.]\n",
      " [0. 0. 0. 0. 0. 0. 0. 0. 0. 0.]\n",
      " [0. 0. 0. 0. 0. 0. 0. 0. 0. 0.]\n",
      " [0. 0. 0. 0. 0. 0. 0. 0. 0. 0.]\n",
      " [0. 0. 0. 0. 0. 0. 0. 0. 0. 0.]\n",
      " [0. 0. 0. 0. 0. 0. 0. 0. 0. 0.]\n",
      " [0. 0. 0. 0. 0. 0. 0. 0. 0. 0.]]\n"
     ]
    }
   ],
   "source": [
    "a=np.zeros((10,10))\n",
    "print(a)"
   ]
  },
  {
   "cell_type": "code",
   "execution_count": 250,
   "id": "80f215f7",
   "metadata": {},
   "outputs": [
    {
     "name": "stdout",
     "output_type": "stream",
     "text": [
      "[[1. 0. 0. 0. 0. 0. 0. 0. 0. 0.]\n",
      " [0. 1. 0. 0. 0. 0. 0. 0. 0. 0.]\n",
      " [0. 0. 1. 0. 0. 0. 0. 0. 0. 0.]\n",
      " [0. 0. 0. 1. 0. 0. 0. 0. 0. 0.]\n",
      " [0. 0. 0. 0. 1. 0. 0. 0. 0. 0.]\n",
      " [0. 0. 0. 0. 0. 1. 0. 0. 0. 0.]\n",
      " [0. 0. 0. 0. 0. 0. 1. 0. 0. 0.]\n",
      " [0. 0. 0. 0. 0. 0. 0. 1. 0. 0.]\n",
      " [0. 0. 0. 0. 0. 0. 0. 0. 1. 0.]\n",
      " [0. 0. 0. 0. 0. 0. 0. 0. 0. 1.]]\n"
     ]
    }
   ],
   "source": [
    "b=np.identity(10)\n",
    "print(b)"
   ]
  },
  {
   "cell_type": "code",
   "execution_count": 251,
   "id": "cad00c1c",
   "metadata": {},
   "outputs": [
    {
     "name": "stdout",
     "output_type": "stream",
     "text": [
      "[[9. 0. 0. 0. 0. 0. 0. 0. 0. 0.]\n",
      " [0. 9. 0. 0. 0. 0. 0. 0. 0. 0.]\n",
      " [0. 0. 9. 0. 0. 0. 0. 0. 0. 0.]\n",
      " [0. 0. 0. 9. 0. 0. 0. 0. 0. 0.]\n",
      " [0. 0. 0. 0. 9. 0. 0. 0. 0. 0.]\n",
      " [0. 0. 0. 0. 0. 9. 0. 0. 0. 0.]\n",
      " [0. 0. 0. 0. 0. 0. 9. 0. 0. 0.]\n",
      " [0. 0. 0. 0. 0. 0. 0. 9. 0. 0.]\n",
      " [0. 0. 0. 0. 0. 0. 0. 0. 9. 0.]\n",
      " [0. 0. 0. 0. 0. 0. 0. 0. 0. 9.]]\n"
     ]
    }
   ],
   "source": [
    "c=9*b\n",
    "print(c)"
   ]
  },
  {
   "cell_type": "code",
   "execution_count": 252,
   "id": "02d8ab9a",
   "metadata": {},
   "outputs": [
    {
     "name": "stdout",
     "output_type": "stream",
     "text": [
      "[[9. 1. 1. 1. 1. 1. 1. 1.]\n",
      " [1. 9. 1. 1. 1. 1. 1. 1.]\n",
      " [1. 1. 9. 1. 1. 1. 1. 1.]\n",
      " [1. 1. 1. 9. 1. 1. 1. 1.]\n",
      " [1. 1. 1. 1. 9. 1. 1. 1.]\n",
      " [1. 1. 1. 1. 1. 9. 1. 1.]\n",
      " [1. 1. 1. 1. 1. 1. 9. 1.]\n",
      " [1. 1. 1. 1. 1. 1. 1. 9.]]\n"
     ]
    }
   ],
   "source": [
    "d=np.ones((8,8))\n",
    "e=np.identity(8)*8\n",
    "f=d+e\n",
    "print(f)"
   ]
  },
  {
   "cell_type": "code",
   "execution_count": 253,
   "id": "da59c791",
   "metadata": {},
   "outputs": [
    {
     "name": "stdout",
     "output_type": "stream",
     "text": [
      "[[9. 0. 0. 0. 0. 0. 0. 0. 0. 0.]\n",
      " [0. 9. 1. 1. 1. 1. 1. 1. 1. 0.]\n",
      " [0. 1. 9. 1. 1. 1. 1. 1. 1. 0.]\n",
      " [0. 1. 1. 9. 1. 1. 1. 1. 1. 0.]\n",
      " [0. 1. 1. 1. 9. 1. 1. 1. 1. 0.]\n",
      " [0. 1. 1. 1. 1. 9. 1. 1. 1. 0.]\n",
      " [0. 1. 1. 1. 1. 1. 9. 1. 1. 0.]\n",
      " [0. 1. 1. 1. 1. 1. 1. 9. 1. 0.]\n",
      " [0. 1. 1. 1. 1. 1. 1. 1. 9. 0.]\n",
      " [0. 0. 0. 0. 0. 0. 0. 0. 0. 9.]]\n"
     ]
    }
   ],
   "source": [
    "c[1:-1,1:-1]=f\n",
    "print(c)"
   ]
  },
  {
   "cell_type": "code",
   "execution_count": 254,
   "id": "f045ae97",
   "metadata": {},
   "outputs": [
    {
     "name": "stdout",
     "output_type": "stream",
     "text": [
      "[[9. 0. 0. 0. 0. 0. 0. 0. 0. 0.]\n",
      " [0. 9. 1. 1. 1. 1. 1. 1. 1. 0.]\n",
      " [0. 1. 9. 0. 0. 0. 0. 0. 1. 0.]\n",
      " [0. 1. 0. 9. 0. 0. 0. 0. 1. 0.]\n",
      " [0. 1. 0. 0. 9. 0. 0. 0. 1. 0.]\n",
      " [0. 1. 0. 0. 0. 9. 0. 0. 1. 0.]\n",
      " [0. 1. 0. 0. 0. 0. 9. 0. 1. 0.]\n",
      " [0. 1. 0. 0. 0. 0. 0. 9. 1. 0.]\n",
      " [0. 1. 1. 1. 1. 1. 1. 1. 9. 0.]\n",
      " [0. 0. 0. 0. 0. 0. 0. 0. 0. 9.]]\n"
     ]
    }
   ],
   "source": [
    "g=np.identity(6)*9\n",
    "c[2:-2,2:-2]=g\n",
    "print(c)"
   ]
  },
  {
   "cell_type": "code",
   "execution_count": 255,
   "id": "171841ce",
   "metadata": {},
   "outputs": [
    {
     "name": "stdout",
     "output_type": "stream",
     "text": [
      "[[9. 2. 2. 2.]\n",
      " [2. 9. 2. 2.]\n",
      " [2. 2. 9. 2.]\n",
      " [2. 2. 2. 9.]]\n"
     ]
    }
   ],
   "source": [
    "h=np.ones((4,4))*2\n",
    "i=np.identity(4)*7\n",
    "j=h+i\n",
    "print(j)"
   ]
  },
  {
   "cell_type": "code",
   "execution_count": 256,
   "id": "e2f1fa45",
   "metadata": {},
   "outputs": [
    {
     "name": "stdout",
     "output_type": "stream",
     "text": [
      "[[9. 0. 0. 0. 0. 0. 0. 0. 0. 0.]\n",
      " [0. 9. 1. 1. 1. 1. 1. 1. 1. 0.]\n",
      " [0. 1. 9. 0. 0. 0. 0. 0. 1. 0.]\n",
      " [0. 1. 0. 9. 2. 2. 2. 0. 1. 0.]\n",
      " [0. 1. 0. 2. 9. 2. 2. 0. 1. 0.]\n",
      " [0. 1. 0. 2. 2. 9. 2. 0. 1. 0.]\n",
      " [0. 1. 0. 2. 2. 2. 9. 0. 1. 0.]\n",
      " [0. 1. 0. 0. 0. 0. 0. 9. 1. 0.]\n",
      " [0. 1. 1. 1. 1. 1. 1. 1. 9. 0.]\n",
      " [0. 0. 0. 0. 0. 0. 0. 0. 0. 9.]]\n"
     ]
    }
   ],
   "source": [
    "c[3:-3,3:-3]=j\n",
    "print(c)"
   ]
  },
  {
   "cell_type": "code",
   "execution_count": 257,
   "id": "0b2bbf4d",
   "metadata": {},
   "outputs": [
    {
     "name": "stdout",
     "output_type": "stream",
     "text": [
      "[[9. 0. 0. 0. 0. 0. 0. 0. 0. 0.]\n",
      " [0. 9. 1. 1. 1. 1. 1. 1. 1. 0.]\n",
      " [0. 1. 9. 0. 0. 0. 0. 0. 1. 0.]\n",
      " [0. 1. 0. 9. 2. 2. 2. 0. 1. 0.]\n",
      " [0. 1. 0. 2. 9. 0. 2. 0. 1. 9.]\n",
      " [0. 1. 0. 2. 2. 9. 2. 0. 1. 0.]\n",
      " [0. 1. 0. 2. 2. 2. 9. 0. 1. 0.]\n",
      " [0. 1. 0. 0. 0. 0. 0. 9. 1. 0.]\n",
      " [0. 1. 1. 1. 1. 1. 1. 1. 9. 0.]\n",
      " [0. 0. 0. 0. 0. 0. 0. 0. 0. 9.]]\n"
     ]
    }
   ],
   "source": [
    "k=np.identity(2)*9\n",
    "c[4:-4,:4:-4]=k\n",
    "print(c)"
   ]
  },
  {
   "cell_type": "code",
   "execution_count": 258,
   "id": "212b5ae2",
   "metadata": {},
   "outputs": [
    {
     "name": "stdout",
     "output_type": "stream",
     "text": [
      "[1 2 3 4 5]\n"
     ]
    }
   ],
   "source": [
    "a=np.array([1,2,3,4,5])\n",
    "print(a)"
   ]
  },
  {
   "cell_type": "code",
   "execution_count": 259,
   "id": "f624eda1",
   "metadata": {},
   "outputs": [
    {
     "name": "stdout",
     "output_type": "stream",
     "text": [
      "[1 2 3 4 5]\n"
     ]
    }
   ],
   "source": [
    "b=a\n",
    "print(b)"
   ]
  },
  {
   "cell_type": "code",
   "execution_count": 260,
   "id": "e70a7eb0",
   "metadata": {},
   "outputs": [
    {
     "name": "stdout",
     "output_type": "stream",
     "text": [
      "[10  2  3  4  5]\n"
     ]
    }
   ],
   "source": [
    "b[0]=10\n",
    "print(b)"
   ]
  },
  {
   "cell_type": "code",
   "execution_count": 261,
   "id": "a1d5fe53",
   "metadata": {},
   "outputs": [
    {
     "name": "stdout",
     "output_type": "stream",
     "text": [
      "[10  2  3  4  5]\n"
     ]
    }
   ],
   "source": [
    "print(a)"
   ]
  },
  {
   "cell_type": "code",
   "execution_count": 262,
   "id": "7e49a451",
   "metadata": {},
   "outputs": [
    {
     "name": "stdout",
     "output_type": "stream",
     "text": [
      "[1 2 3 4 5]\n"
     ]
    }
   ],
   "source": [
    "c=np.array([1,2,3,4,5])\n",
    "print(c)"
   ]
  },
  {
   "cell_type": "code",
   "execution_count": 263,
   "id": "fe72f887",
   "metadata": {},
   "outputs": [
    {
     "name": "stdout",
     "output_type": "stream",
     "text": [
      "[1 2 3 4 5]\n"
     ]
    }
   ],
   "source": [
    "d=c.copy()\n",
    "print(d)"
   ]
  },
  {
   "cell_type": "code",
   "execution_count": 264,
   "id": "39160605",
   "metadata": {},
   "outputs": [
    {
     "name": "stdout",
     "output_type": "stream",
     "text": [
      "[10  2  3  4  5]\n"
     ]
    }
   ],
   "source": [
    "d[0]=10\n",
    "print(d)"
   ]
  },
  {
   "cell_type": "code",
   "execution_count": 265,
   "id": "ee47dc28",
   "metadata": {},
   "outputs": [
    {
     "name": "stdout",
     "output_type": "stream",
     "text": [
      "[1 2 3 4 5]\n"
     ]
    }
   ],
   "source": [
    "print(c)"
   ]
  },
  {
   "cell_type": "code",
   "execution_count": 266,
   "id": "0061d325",
   "metadata": {},
   "outputs": [
    {
     "data": {
      "text/plain": [
       "array([12,  4,  5,  6,  7])"
      ]
     },
     "execution_count": 266,
     "metadata": {},
     "output_type": "execute_result"
    }
   ],
   "source": [
    "a+2"
   ]
  },
  {
   "cell_type": "code",
   "execution_count": 267,
   "id": "309ea601",
   "metadata": {},
   "outputs": [
    {
     "data": {
      "text/plain": [
       "array([8, 0, 1, 2, 3])"
      ]
     },
     "execution_count": 267,
     "metadata": {},
     "output_type": "execute_result"
    }
   ],
   "source": [
    "a-2"
   ]
  },
  {
   "cell_type": "code",
   "execution_count": 268,
   "id": "0fe551e9",
   "metadata": {},
   "outputs": [
    {
     "data": {
      "text/plain": [
       "array([20,  4,  6,  8, 10])"
      ]
     },
     "execution_count": 268,
     "metadata": {},
     "output_type": "execute_result"
    }
   ],
   "source": [
    "a*2"
   ]
  },
  {
   "cell_type": "code",
   "execution_count": 269,
   "id": "49a0a695",
   "metadata": {},
   "outputs": [
    {
     "data": {
      "text/plain": [
       "array([100,   4,   9,  16,  25], dtype=int32)"
      ]
     },
     "execution_count": 269,
     "metadata": {},
     "output_type": "execute_result"
    }
   ],
   "source": [
    "a**2"
   ]
  },
  {
   "cell_type": "code",
   "execution_count": 270,
   "id": "d14af43e",
   "metadata": {},
   "outputs": [
    {
     "name": "stdout",
     "output_type": "stream",
     "text": [
      "[ 6  7  8  9 10]\n"
     ]
    }
   ],
   "source": [
    "b=np.array([6,7,8,9,10])\n",
    "print(b)"
   ]
  },
  {
   "cell_type": "code",
   "execution_count": 271,
   "id": "3d0ebf33",
   "metadata": {},
   "outputs": [
    {
     "data": {
      "text/plain": [
       "array([16,  9, 11, 13, 15])"
      ]
     },
     "execution_count": 271,
     "metadata": {},
     "output_type": "execute_result"
    }
   ],
   "source": [
    "a+b"
   ]
  },
  {
   "cell_type": "code",
   "execution_count": 272,
   "id": "14dd782e",
   "metadata": {},
   "outputs": [
    {
     "data": {
      "text/plain": [
       "array([-0.83907153, -0.41614684, -0.9899925 , -0.65364362,  0.28366219])"
      ]
     },
     "execution_count": 272,
     "metadata": {},
     "output_type": "execute_result"
    }
   ],
   "source": [
    "np.cos(a)"
   ]
  },
  {
   "cell_type": "code",
   "execution_count": 273,
   "id": "5a98c29c",
   "metadata": {},
   "outputs": [
    {
     "data": {
      "text/plain": [
       "array([1.10132329e+04, 3.62686041e+00, 1.00178749e+01, 2.72899172e+01,\n",
       "       7.42032106e+01])"
      ]
     },
     "execution_count": 273,
     "metadata": {},
     "output_type": "execute_result"
    }
   ],
   "source": [
    "np.sinh(a)"
   ]
  },
  {
   "cell_type": "code",
   "execution_count": 274,
   "id": "743bc06a",
   "metadata": {},
   "outputs": [
    {
     "data": {
      "text/plain": [
       "array([2.44948974, 2.64575131, 2.82842712, 3.        , 3.16227766])"
      ]
     },
     "execution_count": 274,
     "metadata": {},
     "output_type": "execute_result"
    }
   ],
   "source": [
    "np.sqrt(b)"
   ]
  },
  {
   "cell_type": "code",
   "execution_count": 275,
   "id": "3f9b45f8",
   "metadata": {},
   "outputs": [
    {
     "data": {
      "text/plain": [
       "array([-0.29100619,  0.87144798, -6.79971146, -0.45231566,  0.64836083])"
      ]
     },
     "execution_count": 275,
     "metadata": {},
     "output_type": "execute_result"
    }
   ],
   "source": [
    "np.tan(b)"
   ]
  },
  {
   "cell_type": "code",
   "execution_count": 276,
   "id": "8ccd015c",
   "metadata": {},
   "outputs": [
    {
     "name": "stdout",
     "output_type": "stream",
     "text": [
      "[[1 2 3 4]\n",
      " [5 6 7 8]]\n"
     ]
    }
   ],
   "source": [
    "a= np.array([[1,2,3,4], [5,6,7,8]])\n",
    "print(a)"
   ]
  },
  {
   "cell_type": "code",
   "execution_count": 277,
   "id": "5536486f",
   "metadata": {},
   "outputs": [
    {
     "name": "stdout",
     "output_type": "stream",
     "text": [
      "[[ 9 10 11 12]\n",
      " [13 14 15 16]]\n"
     ]
    }
   ],
   "source": [
    "b= np.array([[9,10,11,12],[13,14,15,16]])\n",
    "print(b)"
   ]
  },
  {
   "cell_type": "code",
   "execution_count": 278,
   "id": "ce2b935d",
   "metadata": {},
   "outputs": [
    {
     "name": "stdout",
     "output_type": "stream",
     "text": [
      "[[  9  20  33  48]\n",
      " [ 65  84 105 128]]\n"
     ]
    }
   ],
   "source": [
    "c=a*b\n",
    "print(c)"
   ]
  },
  {
   "cell_type": "code",
   "execution_count": 279,
   "id": "46ca5f76",
   "metadata": {},
   "outputs": [
    {
     "name": "stdout",
     "output_type": "stream",
     "text": [
      "[[ 9 10]\n",
      " [11 12]\n",
      " [13 14]\n",
      " [15 16]]\n"
     ]
    }
   ],
   "source": [
    "e=np.array([[9,10],[11,12],[13,14],[15,16]])\n",
    "print(e)"
   ]
  },
  {
   "cell_type": "code",
   "execution_count": 280,
   "id": "6d8614e7",
   "metadata": {},
   "outputs": [
    {
     "name": "stdout",
     "output_type": "stream",
     "text": [
      "[[130 140]\n",
      " [322 348]]\n"
     ]
    }
   ],
   "source": [
    "f=np.matmul(a,e)\n",
    "print(f)"
   ]
  },
  {
   "cell_type": "code",
   "execution_count": 281,
   "id": "96f2e155",
   "metadata": {},
   "outputs": [
    {
     "name": "stdout",
     "output_type": "stream",
     "text": [
      "[[ 1  2  3  4]\n",
      " [ 5  6  7  8]\n",
      " [ 9 10 11 12]]\n"
     ]
    }
   ],
   "source": [
    "a = np.array([[1,2,3,4],\n",
    "             [5,6,7,8],\n",
    "             [9,10,11,12]])\n",
    "print(a)"
   ]
  },
  {
   "cell_type": "code",
   "execution_count": 282,
   "id": "8ef25b86",
   "metadata": {},
   "outputs": [
    {
     "name": "stdout",
     "output_type": "stream",
     "text": [
      "1\n"
     ]
    }
   ],
   "source": [
    "b=np.min(a)\n",
    "print(b)"
   ]
  },
  {
   "cell_type": "code",
   "execution_count": 283,
   "id": "1c95e15a",
   "metadata": {},
   "outputs": [
    {
     "name": "stdout",
     "output_type": "stream",
     "text": [
      "[10  2  3  4  5]\n"
     ]
    }
   ],
   "source": [
    "c=np.min(a,axis=1)\n",
    "print(d)"
   ]
  },
  {
   "cell_type": "code",
   "execution_count": 284,
   "id": "a4f17e3b",
   "metadata": {},
   "outputs": [
    {
     "name": "stdout",
     "output_type": "stream",
     "text": [
      "[[ 1  2  3  4]\n",
      " [ 5  6  7  8]\n",
      " [ 9 10 11 12]]\n"
     ]
    }
   ],
   "source": [
    "e=np.max(a)\n",
    "print(a)"
   ]
  },
  {
   "cell_type": "code",
   "execution_count": 285,
   "id": "1607d96e",
   "metadata": {},
   "outputs": [
    {
     "name": "stdout",
     "output_type": "stream",
     "text": [
      "[ 9 10 11 12]\n"
     ]
    }
   ],
   "source": [
    "f=np.max(a,axis=0)\n",
    "print(f)"
   ]
  },
  {
   "cell_type": "code",
   "execution_count": 286,
   "id": "950dd1a5",
   "metadata": {},
   "outputs": [
    {
     "name": "stdout",
     "output_type": "stream",
     "text": [
      "[ 4  8 12]\n"
     ]
    }
   ],
   "source": [
    "b=np.max(a,axis=1)\n",
    "print(b)"
   ]
  },
  {
   "cell_type": "code",
   "execution_count": 287,
   "id": "3f33370f",
   "metadata": {},
   "outputs": [
    {
     "name": "stdout",
     "output_type": "stream",
     "text": [
      "[[2. 2. 2. 2.]\n",
      " [2. 2. 2. 2.]\n",
      " [2. 2. 2. 2.]\n",
      " [2. 2. 2. 2.]]\n"
     ]
    }
   ],
   "source": [
    "g=np.sum(a)\n",
    "print(h)"
   ]
  },
  {
   "cell_type": "code",
   "execution_count": 288,
   "id": "1d86a0b3",
   "metadata": {},
   "outputs": [
    {
     "name": "stdout",
     "output_type": "stream",
     "text": [
      "[15 18 21 24]\n"
     ]
    }
   ],
   "source": [
    "h=np.sum(a,axis=0)\n",
    "print(h)"
   ]
  },
  {
   "cell_type": "code",
   "execution_count": 289,
   "id": "d8df64fe",
   "metadata": {},
   "outputs": [
    {
     "name": "stdout",
     "output_type": "stream",
     "text": [
      "[10 26 42]\n"
     ]
    }
   ],
   "source": [
    "i=np.sum(a,axis=1)\n",
    "print(i)"
   ]
  },
  {
   "cell_type": "code",
   "execution_count": 290,
   "id": "c42d328f",
   "metadata": {},
   "outputs": [],
   "source": [
    "import pandas as pd"
   ]
  },
  {
   "cell_type": "code",
   "execution_count": 291,
   "id": "108cfe21",
   "metadata": {},
   "outputs": [
    {
     "name": "stdout",
     "output_type": "stream",
     "text": [
      "    No.              Nama Tanggal Lahir Jenis Kelamin Pekerjaan   Gaji  \\\n",
      "0     1        Putu Diana    1995-01-14     Perempuan    dokter   5000   \n",
      "1     2         Made Andi    1994-02-15     Laki-laki   perawat   4000   \n",
      "2     3      Komang Lukis    1993-03-16     Laki-laki     bidan   4000   \n",
      "3     4    Ketut Koncreng    1992-04-17     Perempuan     buruh   3000   \n",
      "4     5       Wayan Bagus    1991-05-18     Laki-laki    dagang  10000   \n",
      "5     6       Kadek Bocok    1990-03-19     Laki-laki     supir   6000   \n",
      "6     7      Nyoman Jegeg    1989-06-20     Perempuan     artis   3000   \n",
      "7     8        Ketut Lama    1988-07-21     Laki-laki     supir   4000   \n",
      "8     9           Luh Ani    1987-08-22     Perempuan    dagang   5000   \n",
      "9    10       Made Sengap    1986-09-23     Laki-laki     supir   3500   \n",
      "10   11        Made Santi    1995-01-01     Perempuan    dokter   6000   \n",
      "11   12    Luh Madeinbali    1994-01-02          None   perawat   7000   \n",
      "12   13  Ketut Kusumadewi    1990-01-03     Perempuan     bidan   8000   \n",
      "13   14       Komang Dewi    1993-02-05          None    dokter  10000   \n",
      "14   15    Kadek Dewiyani    1991-06-15     Perempuan     buruh  11000   \n",
      "15   16     Luh Santidewi    1991-07-15          None     artis   7000   \n",
      "16   17       Putu Medewi    1992-06-16     Perempuan     buruh   3500   \n",
      "17   18     Nyoman Madewi    1994-07-13     Perempuan    dagang   1500   \n",
      "18   19       Kadek Pekak    1992-05-14     Laki-laki     buruh   2500   \n",
      "19   20       Made Sengap    1991-06-15     Laki-laki     supir   4500   \n",
      "\n",
      "    Tabungan Menikah  Jumlah Anak  \n",
      "0     100000   tidak            0  \n",
      "1     150000      ya            4  \n",
      "2     200000      ya            3  \n",
      "3        500      ya            2  \n",
      "4     500000   tidak            0  \n",
      "5       1000   tidak            0  \n",
      "6      50000   tidak            0  \n",
      "7       2000      ya            1  \n",
      "8      50000      ya            2  \n",
      "9     700000      ya            2  \n",
      "10     20000   tidak            0  \n",
      "11       500      ya            4  \n",
      "12     10000   tidak            0  \n",
      "13     25000      ya            2  \n",
      "14     35000   tidak            0  \n",
      "15      7000      ya            3  \n",
      "16      5000   tidak            0  \n",
      "17     75000      ya            6  \n",
      "18      9000   tidak            0  \n",
      "19     15000      ya            5  \n"
     ]
    }
   ],
   "source": [
    "data_csv=pd.read_csv('data_palsu.csv')\n",
    "print(data_csv)"
   ]
  },
  {
   "cell_type": "code",
   "execution_count": 292,
   "id": "613aa9b8",
   "metadata": {},
   "outputs": [
    {
     "name": "stdout",
     "output_type": "stream",
     "text": [
      "    No.              Nama Tanggal Lahir Jenis Kelamin Pekerjaan   Gaji  \\\n",
      "0     1        Putu Diana    1995-01-14     Perempuan    dokter   5000   \n",
      "1     2         Made Andi    1994-02-15     Laki-laki   perawat   4000   \n",
      "2     3      Komang Lukis    1993-03-16     Laki-laki     bidan   4000   \n",
      "3     4    Ketut Koncreng    1992-04-17     Perempuan     buruh   3000   \n",
      "4     5       Wayan Bagus    1991-05-18     Laki-laki    dagang  10000   \n",
      "5     6       Kadek Bocok    1990-03-19     Laki-laki     supir   6000   \n",
      "6     7      Nyoman Jegeg    1989-06-20     Perempuan     artis   3000   \n",
      "7     8        Ketut Lama    1988-07-21     Laki-laki     supir   4000   \n",
      "8     9           Luh Ani    1987-08-22     Perempuan    dagang   5000   \n",
      "9    10       Made Sengap    1986-09-23     Laki-laki     supir   3500   \n",
      "10   11        Made Santi    1995-01-01     Perempuan    dokter   6000   \n",
      "11   12    Luh Madeinbali    1994-01-02          None   perawat   7000   \n",
      "12   13  Ketut Kusumadewi    1990-01-03     Perempuan     bidan   8000   \n",
      "13   14       Komang Dewi    1993-02-05          None    dokter  10000   \n",
      "14   15    Kadek Dewiyani    1991-06-15     Perempuan     buruh  11000   \n",
      "15   16     Luh Santidewi    1991-07-15          None     artis   7000   \n",
      "16   17       Putu Medewi    1992-06-16     Perempuan     buruh   3500   \n",
      "17   18     Nyoman Madewi    1994-07-13     Perempuan    dagang   1500   \n",
      "18   19       Kadek Pekak    1992-05-14     Laki-laki     buruh   2500   \n",
      "19   20       Made Sengap    1991-06-15     Laki-laki     supir   4500   \n",
      "\n",
      "    Tabungan Menikah  Jumlah Anak  \n",
      "0     100000   tidak            0  \n",
      "1     150000      ya            4  \n",
      "2     200000      ya            3  \n",
      "3        500      ya            2  \n",
      "4     500000   tidak            0  \n",
      "5       1000   tidak            0  \n",
      "6      50000   tidak            0  \n",
      "7       2000      ya            1  \n",
      "8      50000      ya            2  \n",
      "9     700000      ya            2  \n",
      "10     20000   tidak            0  \n",
      "11       500      ya            4  \n",
      "12     10000   tidak            0  \n",
      "13     25000      ya            2  \n",
      "14     35000   tidak            0  \n",
      "15      7000      ya            3  \n",
      "16      5000   tidak            0  \n",
      "17     75000      ya            6  \n",
      "18      9000   tidak            0  \n",
      "19     15000      ya            5  \n"
     ]
    }
   ],
   "source": [
    "data_xlsx = pd.read_excel('data_palsu.xlsx')\n",
    "print(data_xlsx)"
   ]
  },
  {
   "cell_type": "code",
   "execution_count": 293,
   "id": "38e3b5fd",
   "metadata": {},
   "outputs": [
    {
     "name": "stdout",
     "output_type": "stream",
     "text": [
      "    No.              Nama Tanggal Lahir Jenis Kelamin Pekerjaan   Gaji  \\\n",
      "0     1        Putu Diana    1995-01-14     Perempuan    dokter   5000   \n",
      "1     2         Made Andi    1994-02-15     Laki-laki   perawat   4000   \n",
      "2     3      Komang Lukis    1993-03-16     Laki-laki     bidan   4000   \n",
      "3     4    Ketut Koncreng    1992-04-17     Perempuan     buruh   3000   \n",
      "4     5       Wayan Bagus    1991-05-18     Laki-laki    dagang  10000   \n",
      "5     6       Kadek Bocok    1990-03-19     Laki-laki     supir   6000   \n",
      "6     7      Nyoman Jegeg    1989-06-20     Perempuan     artis   3000   \n",
      "7     8        Ketut Lama    1988-07-21     Laki-laki     supir   4000   \n",
      "8     9           Luh Ani    1987-08-22     Perempuan    dagang   5000   \n",
      "9    10       Made Sengap    1986-09-23     Laki-laki     supir   3500   \n",
      "10   11        Made Santi    1995-01-01     Perempuan    dokter   6000   \n",
      "11   12    Luh Madeinbali    1994-01-02          None   perawat   7000   \n",
      "12   13  Ketut Kusumadewi    1990-01-03     Perempuan     bidan   8000   \n",
      "13   14       Komang Dewi    1993-02-05          None    dokter  10000   \n",
      "14   15    Kadek Dewiyani    1991-06-15     Perempuan     buruh  11000   \n",
      "15   16     Luh Santidewi    1991-07-15          None     artis   7000   \n",
      "16   17       Putu Medewi    1992-06-16     Perempuan     buruh   3500   \n",
      "17   18     Nyoman Madewi    1994-07-13     Perempuan    dagang   1500   \n",
      "18   19       Kadek Pekak    1992-05-14     Laki-laki     buruh   2500   \n",
      "19   20       Made Sengap    1991-06-15     Laki-laki     supir   4500   \n",
      "\n",
      "    Tabungan Menikah  Jumlah Anak  \n",
      "0     100000   tidak            0  \n",
      "1     150000      ya            4  \n",
      "2     200000      ya            3  \n",
      "3        500      ya            2  \n",
      "4     500000   tidak            0  \n",
      "5       1000   tidak            0  \n",
      "6      50000   tidak            0  \n",
      "7       2000      ya            1  \n",
      "8      50000      ya            2  \n",
      "9     700000      ya            2  \n",
      "10     20000   tidak            0  \n",
      "11       500      ya            4  \n",
      "12     10000   tidak            0  \n",
      "13     25000      ya            2  \n",
      "14     35000   tidak            0  \n",
      "15      7000      ya            3  \n",
      "16      5000   tidak            0  \n",
      "17     75000      ya            6  \n",
      "18      9000   tidak            0  \n",
      "19     15000      ya            5  \n"
     ]
    }
   ],
   "source": [
    "data_txt = pd.read_csv('data_palsu.txt')\n",
    "print(data_txt)"
   ]
  },
  {
   "cell_type": "code",
   "execution_count": 294,
   "id": "b200c043",
   "metadata": {},
   "outputs": [
    {
     "name": "stdout",
     "output_type": "stream",
     "text": [
      "    No.              Nama Tanggal Lahir Jenis Kelamin Pekerjaan   Gaji  \\\n",
      "0     1        Putu Diana    1995-01-14     Perempuan    dokter   5000   \n",
      "1     2         Made Andi    1994-02-15     Laki-laki   perawat   4000   \n",
      "2     3      Komang Lukis    1993-03-16     Laki-laki     bidan   4000   \n",
      "3     4    Ketut Koncreng    1992-04-17     Perempuan     buruh   3000   \n",
      "4     5       Wayan Bagus    1991-05-18     Laki-laki    dagang  10000   \n",
      "5     6       Kadek Bocok    1990-03-19     Laki-laki     supir   6000   \n",
      "6     7      Nyoman Jegeg    1989-06-20     Perempuan     artis   3000   \n",
      "7     8        Ketut Lama    1988-07-21     Laki-laki     supir   4000   \n",
      "8     9           Luh Ani    1987-08-22     Perempuan    dagang   5000   \n",
      "9    10       Made Sengap    1986-09-23     Laki-laki     supir   3500   \n",
      "10   11        Made Santi    1995-01-01     Perempuan    dokter   6000   \n",
      "11   12    Luh Madeinbali    1994-01-02          None   perawat   7000   \n",
      "12   13  Ketut Kusumadewi    1990-01-03     Perempuan     bidan   8000   \n",
      "13   14       Komang Dewi    1993-02-05          None    dokter  10000   \n",
      "14   15    Kadek Dewiyani    1991-06-15     Perempuan     buruh  11000   \n",
      "15   16     Luh Santidewi    1991-07-15          None     artis   7000   \n",
      "16   17       Putu Medewi    1992-06-16     Perempuan     buruh   3500   \n",
      "17   18     Nyoman Madewi    1994-07-13     Perempuan    dagang   1500   \n",
      "18   19       Kadek Pekak    1992-05-14     Laki-laki     buruh   2500   \n",
      "19   20       Made Sengap    1991-06-15     Laki-laki     supir   4500   \n",
      "\n",
      "    Tabungan Menikah  Jumlah Anak  \n",
      "0     100000   tidak            0  \n",
      "1     150000      ya            4  \n",
      "2     200000      ya            3  \n",
      "3        500      ya            2  \n",
      "4     500000   tidak            0  \n",
      "5       1000   tidak            0  \n",
      "6      50000   tidak            0  \n",
      "7       2000      ya            1  \n",
      "8      50000      ya            2  \n",
      "9     700000      ya            2  \n",
      "10     20000   tidak            0  \n",
      "11       500      ya            4  \n",
      "12     10000   tidak            0  \n",
      "13     25000      ya            2  \n",
      "14     35000   tidak            0  \n",
      "15      7000      ya            3  \n",
      "16      5000   tidak            0  \n",
      "17     75000      ya            6  \n",
      "18      9000   tidak            0  \n",
      "19     15000      ya            5  \n"
     ]
    }
   ],
   "source": [
    "dt= data_txt.copy()\n",
    "print(dt)"
   ]
  },
  {
   "cell_type": "code",
   "execution_count": 295,
   "id": "9089dd43",
   "metadata": {},
   "outputs": [
    {
     "name": "stdout",
     "output_type": "stream",
     "text": [
      "   No.            Nama Tanggal Lahir Jenis Kelamin Pekerjaan  Gaji  Tabungan  \\\n",
      "0    1      Putu Diana    1995-01-14     Perempuan    dokter  5000    100000   \n",
      "1    2       Made Andi    1994-02-15     Laki-laki   perawat  4000    150000   \n",
      "2    3    Komang Lukis    1993-03-16     Laki-laki     bidan  4000    200000   \n",
      "3    4  Ketut Koncreng    1992-04-17     Perempuan     buruh  3000       500   \n",
      "\n",
      "  Menikah  Jumlah Anak  \n",
      "0   tidak            0  \n",
      "1      ya            4  \n",
      "2      ya            3  \n",
      "3      ya            2  \n"
     ]
    }
   ],
   "source": [
    "print(dt.head(4))"
   ]
  },
  {
   "cell_type": "code",
   "execution_count": 296,
   "id": "e9f3dbd9",
   "metadata": {},
   "outputs": [
    {
     "name": "stdout",
     "output_type": "stream",
     "text": [
      "Index(['No.', 'Nama', 'Tanggal Lahir', 'Jenis Kelamin', 'Pekerjaan', 'Gaji',\n",
      "       'Tabungan', 'Menikah', 'Jumlah Anak'],\n",
      "      dtype='object')\n"
     ]
    }
   ],
   "source": [
    "print(dt.columns)"
   ]
  },
  {
   "cell_type": "code",
   "execution_count": 297,
   "id": "b3c66bf3",
   "metadata": {},
   "outputs": [
    {
     "name": "stdout",
     "output_type": "stream",
     "text": [
      "0           Putu Diana\n",
      "1            Made Andi\n",
      "2         Komang Lukis\n",
      "3       Ketut Koncreng\n",
      "4          Wayan Bagus\n",
      "5          Kadek Bocok\n",
      "6         Nyoman Jegeg\n",
      "7           Ketut Lama\n",
      "8              Luh Ani\n",
      "9          Made Sengap\n",
      "10          Made Santi\n",
      "11      Luh Madeinbali\n",
      "12    Ketut Kusumadewi\n",
      "13         Komang Dewi\n",
      "14      Kadek Dewiyani\n",
      "15       Luh Santidewi\n",
      "16         Putu Medewi\n",
      "17       Nyoman Madewi\n",
      "18         Kadek Pekak\n",
      "19         Made Sengap\n",
      "Name: Nama, dtype: object\n"
     ]
    }
   ],
   "source": [
    "print(dt['Nama'])"
   ]
  },
  {
   "cell_type": "code",
   "execution_count": 298,
   "id": "bed8a324",
   "metadata": {},
   "outputs": [
    {
     "name": "stdout",
     "output_type": "stream",
     "text": [
      "Putu Diana\n"
     ]
    }
   ],
   "source": [
    "print(dt['Nama'][0])"
   ]
  },
  {
   "cell_type": "code",
   "execution_count": 299,
   "id": "2c4387ed",
   "metadata": {},
   "outputs": [
    {
     "name": "stdout",
     "output_type": "stream",
     "text": [
      "1         Made Andi\n",
      "2      Komang Lukis\n",
      "3    Ketut Koncreng\n",
      "4       Wayan Bagus\n",
      "Name: Nama, dtype: object\n"
     ]
    }
   ],
   "source": [
    "print(dt['Nama'][1:5])"
   ]
  },
  {
   "cell_type": "code",
   "execution_count": 300,
   "id": "ea747482",
   "metadata": {},
   "outputs": [
    {
     "name": "stdout",
     "output_type": "stream",
     "text": [
      "             Nama Tanggal Lahir\n",
      "1       Made Andi    1994-02-15\n",
      "2    Komang Lukis    1993-03-16\n",
      "3  Ketut Koncreng    1992-04-17\n",
      "4     Wayan Bagus    1991-05-18\n"
     ]
    }
   ],
   "source": [
    "print(dt[['Nama','Tanggal Lahir']][1:5])"
   ]
  },
  {
   "cell_type": "code",
   "execution_count": 301,
   "id": "b8f1cb1f",
   "metadata": {},
   "outputs": [
    {
     "name": "stdout",
     "output_type": "stream",
     "text": [
      "No.                       2\n",
      "Nama              Made Andi\n",
      "Tanggal Lahir    1994-02-15\n",
      "Jenis Kelamin     Laki-laki\n",
      "Pekerjaan           perawat\n",
      "Gaji                   4000\n",
      "Tabungan             150000\n",
      "Menikah                  ya\n",
      "Jumlah Anak               4\n",
      "Name: 1, dtype: object\n"
     ]
    }
   ],
   "source": [
    "print(dt.iloc[1])"
   ]
  },
  {
   "cell_type": "code",
   "execution_count": 302,
   "id": "f1fe9a2c",
   "metadata": {},
   "outputs": [
    {
     "name": "stdout",
     "output_type": "stream",
     "text": [
      "   No.            Nama Tanggal Lahir Jenis Kelamin Pekerjaan   Gaji  Tabungan  \\\n",
      "1    2       Made Andi    1994-02-15     Laki-laki   perawat   4000    150000   \n",
      "2    3    Komang Lukis    1993-03-16     Laki-laki     bidan   4000    200000   \n",
      "3    4  Ketut Koncreng    1992-04-17     Perempuan     buruh   3000       500   \n",
      "4    5     Wayan Bagus    1991-05-18     Laki-laki    dagang  10000    500000   \n",
      "\n",
      "  Menikah  Jumlah Anak  \n",
      "1      ya            4  \n",
      "2      ya            3  \n",
      "3      ya            2  \n",
      "4   tidak            0  \n"
     ]
    }
   ],
   "source": [
    "print(dt.iloc[1:5])"
   ]
  },
  {
   "cell_type": "code",
   "execution_count": 303,
   "id": "1d8709c7",
   "metadata": {},
   "outputs": [
    {
     "name": "stdout",
     "output_type": "stream",
     "text": [
      "    No.              Nama Tanggal Lahir Jenis Kelamin Pekerjaan   Gaji  \\\n",
      "0     1        Putu Diana    1995-01-14     Perempuan    dokter   5000   \n",
      "3     4    Ketut Koncreng    1992-04-17     Perempuan     buruh   3000   \n",
      "6     7      Nyoman Jegeg    1989-06-20     Perempuan     artis   3000   \n",
      "8     9           Luh Ani    1987-08-22     Perempuan    dagang   5000   \n",
      "10   11        Made Santi    1995-01-01     Perempuan    dokter   6000   \n",
      "12   13  Ketut Kusumadewi    1990-01-03     Perempuan     bidan   8000   \n",
      "14   15    Kadek Dewiyani    1991-06-15     Perempuan     buruh  11000   \n",
      "16   17       Putu Medewi    1992-06-16     Perempuan     buruh   3500   \n",
      "17   18     Nyoman Madewi    1994-07-13     Perempuan    dagang   1500   \n",
      "\n",
      "    Tabungan Menikah  Jumlah Anak  \n",
      "0     100000   tidak            0  \n",
      "3        500      ya            2  \n",
      "6      50000   tidak            0  \n",
      "8      50000      ya            2  \n",
      "10     20000   tidak            0  \n",
      "12     10000   tidak            0  \n",
      "14     35000   tidak            0  \n",
      "16      5000   tidak            0  \n",
      "17     75000      ya            6  \n"
     ]
    }
   ],
   "source": [
    "print(dt.loc[dt['Jenis Kelamin']=='Perempuan'])"
   ]
  },
  {
   "cell_type": "code",
   "execution_count": 304,
   "id": "46501fee",
   "metadata": {},
   "outputs": [
    {
     "data": {
      "text/html": [
       "<div>\n",
       "<style scoped>\n",
       "    .dataframe tbody tr th:only-of-type {\n",
       "        vertical-align: middle;\n",
       "    }\n",
       "\n",
       "    .dataframe tbody tr th {\n",
       "        vertical-align: top;\n",
       "    }\n",
       "\n",
       "    .dataframe thead th {\n",
       "        text-align: right;\n",
       "    }\n",
       "</style>\n",
       "<table border=\"1\" class=\"dataframe\">\n",
       "  <thead>\n",
       "    <tr style=\"text-align: right;\">\n",
       "      <th></th>\n",
       "      <th>No.</th>\n",
       "      <th>Nama</th>\n",
       "      <th>Tanggal Lahir</th>\n",
       "      <th>Jenis Kelamin</th>\n",
       "      <th>Pekerjaan</th>\n",
       "      <th>Gaji</th>\n",
       "      <th>Tabungan</th>\n",
       "      <th>Menikah</th>\n",
       "      <th>Jumlah Anak</th>\n",
       "    </tr>\n",
       "  </thead>\n",
       "  <tbody>\n",
       "    <tr>\n",
       "      <th>5</th>\n",
       "      <td>6</td>\n",
       "      <td>Kadek Bocok</td>\n",
       "      <td>1990-03-19</td>\n",
       "      <td>Laki-laki</td>\n",
       "      <td>supir</td>\n",
       "      <td>6000</td>\n",
       "      <td>1000</td>\n",
       "      <td>tidak</td>\n",
       "      <td>0</td>\n",
       "    </tr>\n",
       "    <tr>\n",
       "      <th>14</th>\n",
       "      <td>15</td>\n",
       "      <td>Kadek Dewiyani</td>\n",
       "      <td>1991-06-15</td>\n",
       "      <td>Perempuan</td>\n",
       "      <td>buruh</td>\n",
       "      <td>11000</td>\n",
       "      <td>35000</td>\n",
       "      <td>tidak</td>\n",
       "      <td>0</td>\n",
       "    </tr>\n",
       "    <tr>\n",
       "      <th>18</th>\n",
       "      <td>19</td>\n",
       "      <td>Kadek Pekak</td>\n",
       "      <td>1992-05-14</td>\n",
       "      <td>Laki-laki</td>\n",
       "      <td>buruh</td>\n",
       "      <td>2500</td>\n",
       "      <td>9000</td>\n",
       "      <td>tidak</td>\n",
       "      <td>0</td>\n",
       "    </tr>\n",
       "    <tr>\n",
       "      <th>3</th>\n",
       "      <td>4</td>\n",
       "      <td>Ketut Koncreng</td>\n",
       "      <td>1992-04-17</td>\n",
       "      <td>Perempuan</td>\n",
       "      <td>buruh</td>\n",
       "      <td>3000</td>\n",
       "      <td>500</td>\n",
       "      <td>ya</td>\n",
       "      <td>2</td>\n",
       "    </tr>\n",
       "    <tr>\n",
       "      <th>12</th>\n",
       "      <td>13</td>\n",
       "      <td>Ketut Kusumadewi</td>\n",
       "      <td>1990-01-03</td>\n",
       "      <td>Perempuan</td>\n",
       "      <td>bidan</td>\n",
       "      <td>8000</td>\n",
       "      <td>10000</td>\n",
       "      <td>tidak</td>\n",
       "      <td>0</td>\n",
       "    </tr>\n",
       "    <tr>\n",
       "      <th>7</th>\n",
       "      <td>8</td>\n",
       "      <td>Ketut Lama</td>\n",
       "      <td>1988-07-21</td>\n",
       "      <td>Laki-laki</td>\n",
       "      <td>supir</td>\n",
       "      <td>4000</td>\n",
       "      <td>2000</td>\n",
       "      <td>ya</td>\n",
       "      <td>1</td>\n",
       "    </tr>\n",
       "    <tr>\n",
       "      <th>13</th>\n",
       "      <td>14</td>\n",
       "      <td>Komang Dewi</td>\n",
       "      <td>1993-02-05</td>\n",
       "      <td>None</td>\n",
       "      <td>dokter</td>\n",
       "      <td>10000</td>\n",
       "      <td>25000</td>\n",
       "      <td>ya</td>\n",
       "      <td>2</td>\n",
       "    </tr>\n",
       "    <tr>\n",
       "      <th>2</th>\n",
       "      <td>3</td>\n",
       "      <td>Komang Lukis</td>\n",
       "      <td>1993-03-16</td>\n",
       "      <td>Laki-laki</td>\n",
       "      <td>bidan</td>\n",
       "      <td>4000</td>\n",
       "      <td>200000</td>\n",
       "      <td>ya</td>\n",
       "      <td>3</td>\n",
       "    </tr>\n",
       "    <tr>\n",
       "      <th>8</th>\n",
       "      <td>9</td>\n",
       "      <td>Luh Ani</td>\n",
       "      <td>1987-08-22</td>\n",
       "      <td>Perempuan</td>\n",
       "      <td>dagang</td>\n",
       "      <td>5000</td>\n",
       "      <td>50000</td>\n",
       "      <td>ya</td>\n",
       "      <td>2</td>\n",
       "    </tr>\n",
       "    <tr>\n",
       "      <th>11</th>\n",
       "      <td>12</td>\n",
       "      <td>Luh Madeinbali</td>\n",
       "      <td>1994-01-02</td>\n",
       "      <td>None</td>\n",
       "      <td>perawat</td>\n",
       "      <td>7000</td>\n",
       "      <td>500</td>\n",
       "      <td>ya</td>\n",
       "      <td>4</td>\n",
       "    </tr>\n",
       "    <tr>\n",
       "      <th>15</th>\n",
       "      <td>16</td>\n",
       "      <td>Luh Santidewi</td>\n",
       "      <td>1991-07-15</td>\n",
       "      <td>None</td>\n",
       "      <td>artis</td>\n",
       "      <td>7000</td>\n",
       "      <td>7000</td>\n",
       "      <td>ya</td>\n",
       "      <td>3</td>\n",
       "    </tr>\n",
       "    <tr>\n",
       "      <th>1</th>\n",
       "      <td>2</td>\n",
       "      <td>Made Andi</td>\n",
       "      <td>1994-02-15</td>\n",
       "      <td>Laki-laki</td>\n",
       "      <td>perawat</td>\n",
       "      <td>4000</td>\n",
       "      <td>150000</td>\n",
       "      <td>ya</td>\n",
       "      <td>4</td>\n",
       "    </tr>\n",
       "    <tr>\n",
       "      <th>10</th>\n",
       "      <td>11</td>\n",
       "      <td>Made Santi</td>\n",
       "      <td>1995-01-01</td>\n",
       "      <td>Perempuan</td>\n",
       "      <td>dokter</td>\n",
       "      <td>6000</td>\n",
       "      <td>20000</td>\n",
       "      <td>tidak</td>\n",
       "      <td>0</td>\n",
       "    </tr>\n",
       "    <tr>\n",
       "      <th>9</th>\n",
       "      <td>10</td>\n",
       "      <td>Made Sengap</td>\n",
       "      <td>1986-09-23</td>\n",
       "      <td>Laki-laki</td>\n",
       "      <td>supir</td>\n",
       "      <td>3500</td>\n",
       "      <td>700000</td>\n",
       "      <td>ya</td>\n",
       "      <td>2</td>\n",
       "    </tr>\n",
       "    <tr>\n",
       "      <th>19</th>\n",
       "      <td>20</td>\n",
       "      <td>Made Sengap</td>\n",
       "      <td>1991-06-15</td>\n",
       "      <td>Laki-laki</td>\n",
       "      <td>supir</td>\n",
       "      <td>4500</td>\n",
       "      <td>15000</td>\n",
       "      <td>ya</td>\n",
       "      <td>5</td>\n",
       "    </tr>\n",
       "    <tr>\n",
       "      <th>6</th>\n",
       "      <td>7</td>\n",
       "      <td>Nyoman Jegeg</td>\n",
       "      <td>1989-06-20</td>\n",
       "      <td>Perempuan</td>\n",
       "      <td>artis</td>\n",
       "      <td>3000</td>\n",
       "      <td>50000</td>\n",
       "      <td>tidak</td>\n",
       "      <td>0</td>\n",
       "    </tr>\n",
       "    <tr>\n",
       "      <th>17</th>\n",
       "      <td>18</td>\n",
       "      <td>Nyoman Madewi</td>\n",
       "      <td>1994-07-13</td>\n",
       "      <td>Perempuan</td>\n",
       "      <td>dagang</td>\n",
       "      <td>1500</td>\n",
       "      <td>75000</td>\n",
       "      <td>ya</td>\n",
       "      <td>6</td>\n",
       "    </tr>\n",
       "    <tr>\n",
       "      <th>0</th>\n",
       "      <td>1</td>\n",
       "      <td>Putu Diana</td>\n",
       "      <td>1995-01-14</td>\n",
       "      <td>Perempuan</td>\n",
       "      <td>dokter</td>\n",
       "      <td>5000</td>\n",
       "      <td>100000</td>\n",
       "      <td>tidak</td>\n",
       "      <td>0</td>\n",
       "    </tr>\n",
       "    <tr>\n",
       "      <th>16</th>\n",
       "      <td>17</td>\n",
       "      <td>Putu Medewi</td>\n",
       "      <td>1992-06-16</td>\n",
       "      <td>Perempuan</td>\n",
       "      <td>buruh</td>\n",
       "      <td>3500</td>\n",
       "      <td>5000</td>\n",
       "      <td>tidak</td>\n",
       "      <td>0</td>\n",
       "    </tr>\n",
       "    <tr>\n",
       "      <th>4</th>\n",
       "      <td>5</td>\n",
       "      <td>Wayan Bagus</td>\n",
       "      <td>1991-05-18</td>\n",
       "      <td>Laki-laki</td>\n",
       "      <td>dagang</td>\n",
       "      <td>10000</td>\n",
       "      <td>500000</td>\n",
       "      <td>tidak</td>\n",
       "      <td>0</td>\n",
       "    </tr>\n",
       "  </tbody>\n",
       "</table>\n",
       "</div>"
      ],
      "text/plain": [
       "    No.              Nama Tanggal Lahir Jenis Kelamin Pekerjaan   Gaji  \\\n",
       "5     6       Kadek Bocok    1990-03-19     Laki-laki     supir   6000   \n",
       "14   15    Kadek Dewiyani    1991-06-15     Perempuan     buruh  11000   \n",
       "18   19       Kadek Pekak    1992-05-14     Laki-laki     buruh   2500   \n",
       "3     4    Ketut Koncreng    1992-04-17     Perempuan     buruh   3000   \n",
       "12   13  Ketut Kusumadewi    1990-01-03     Perempuan     bidan   8000   \n",
       "7     8        Ketut Lama    1988-07-21     Laki-laki     supir   4000   \n",
       "13   14       Komang Dewi    1993-02-05          None    dokter  10000   \n",
       "2     3      Komang Lukis    1993-03-16     Laki-laki     bidan   4000   \n",
       "8     9           Luh Ani    1987-08-22     Perempuan    dagang   5000   \n",
       "11   12    Luh Madeinbali    1994-01-02          None   perawat   7000   \n",
       "15   16     Luh Santidewi    1991-07-15          None     artis   7000   \n",
       "1     2         Made Andi    1994-02-15     Laki-laki   perawat   4000   \n",
       "10   11        Made Santi    1995-01-01     Perempuan    dokter   6000   \n",
       "9    10       Made Sengap    1986-09-23     Laki-laki     supir   3500   \n",
       "19   20       Made Sengap    1991-06-15     Laki-laki     supir   4500   \n",
       "6     7      Nyoman Jegeg    1989-06-20     Perempuan     artis   3000   \n",
       "17   18     Nyoman Madewi    1994-07-13     Perempuan    dagang   1500   \n",
       "0     1        Putu Diana    1995-01-14     Perempuan    dokter   5000   \n",
       "16   17       Putu Medewi    1992-06-16     Perempuan     buruh   3500   \n",
       "4     5       Wayan Bagus    1991-05-18     Laki-laki    dagang  10000   \n",
       "\n",
       "    Tabungan Menikah  Jumlah Anak  \n",
       "5       1000   tidak            0  \n",
       "14     35000   tidak            0  \n",
       "18      9000   tidak            0  \n",
       "3        500      ya            2  \n",
       "12     10000   tidak            0  \n",
       "7       2000      ya            1  \n",
       "13     25000      ya            2  \n",
       "2     200000      ya            3  \n",
       "8      50000      ya            2  \n",
       "11       500      ya            4  \n",
       "15      7000      ya            3  \n",
       "1     150000      ya            4  \n",
       "10     20000   tidak            0  \n",
       "9     700000      ya            2  \n",
       "19     15000      ya            5  \n",
       "6      50000   tidak            0  \n",
       "17     75000      ya            6  \n",
       "0     100000   tidak            0  \n",
       "16      5000   tidak            0  \n",
       "4     500000   tidak            0  "
      ]
     },
     "execution_count": 304,
     "metadata": {},
     "output_type": "execute_result"
    }
   ],
   "source": [
    "dt.sort_values('Nama')"
   ]
  },
  {
   "cell_type": "code",
   "execution_count": 305,
   "id": "8a9bf147",
   "metadata": {},
   "outputs": [
    {
     "data": {
      "text/html": [
       "<div>\n",
       "<style scoped>\n",
       "    .dataframe tbody tr th:only-of-type {\n",
       "        vertical-align: middle;\n",
       "    }\n",
       "\n",
       "    .dataframe tbody tr th {\n",
       "        vertical-align: top;\n",
       "    }\n",
       "\n",
       "    .dataframe thead th {\n",
       "        text-align: right;\n",
       "    }\n",
       "</style>\n",
       "<table border=\"1\" class=\"dataframe\">\n",
       "  <thead>\n",
       "    <tr style=\"text-align: right;\">\n",
       "      <th></th>\n",
       "      <th>No.</th>\n",
       "      <th>Nama</th>\n",
       "      <th>Tanggal Lahir</th>\n",
       "      <th>Jenis Kelamin</th>\n",
       "      <th>Pekerjaan</th>\n",
       "      <th>Gaji</th>\n",
       "      <th>Tabungan</th>\n",
       "      <th>Menikah</th>\n",
       "      <th>Jumlah Anak</th>\n",
       "    </tr>\n",
       "  </thead>\n",
       "  <tbody>\n",
       "    <tr>\n",
       "      <th>4</th>\n",
       "      <td>5</td>\n",
       "      <td>Wayan Bagus</td>\n",
       "      <td>1991-05-18</td>\n",
       "      <td>Laki-laki</td>\n",
       "      <td>dagang</td>\n",
       "      <td>10000</td>\n",
       "      <td>500000</td>\n",
       "      <td>tidak</td>\n",
       "      <td>0</td>\n",
       "    </tr>\n",
       "    <tr>\n",
       "      <th>16</th>\n",
       "      <td>17</td>\n",
       "      <td>Putu Medewi</td>\n",
       "      <td>1992-06-16</td>\n",
       "      <td>Perempuan</td>\n",
       "      <td>buruh</td>\n",
       "      <td>3500</td>\n",
       "      <td>5000</td>\n",
       "      <td>tidak</td>\n",
       "      <td>0</td>\n",
       "    </tr>\n",
       "    <tr>\n",
       "      <th>0</th>\n",
       "      <td>1</td>\n",
       "      <td>Putu Diana</td>\n",
       "      <td>1995-01-14</td>\n",
       "      <td>Perempuan</td>\n",
       "      <td>dokter</td>\n",
       "      <td>5000</td>\n",
       "      <td>100000</td>\n",
       "      <td>tidak</td>\n",
       "      <td>0</td>\n",
       "    </tr>\n",
       "    <tr>\n",
       "      <th>17</th>\n",
       "      <td>18</td>\n",
       "      <td>Nyoman Madewi</td>\n",
       "      <td>1994-07-13</td>\n",
       "      <td>Perempuan</td>\n",
       "      <td>dagang</td>\n",
       "      <td>1500</td>\n",
       "      <td>75000</td>\n",
       "      <td>ya</td>\n",
       "      <td>6</td>\n",
       "    </tr>\n",
       "    <tr>\n",
       "      <th>6</th>\n",
       "      <td>7</td>\n",
       "      <td>Nyoman Jegeg</td>\n",
       "      <td>1989-06-20</td>\n",
       "      <td>Perempuan</td>\n",
       "      <td>artis</td>\n",
       "      <td>3000</td>\n",
       "      <td>50000</td>\n",
       "      <td>tidak</td>\n",
       "      <td>0</td>\n",
       "    </tr>\n",
       "    <tr>\n",
       "      <th>9</th>\n",
       "      <td>10</td>\n",
       "      <td>Made Sengap</td>\n",
       "      <td>1986-09-23</td>\n",
       "      <td>Laki-laki</td>\n",
       "      <td>supir</td>\n",
       "      <td>3500</td>\n",
       "      <td>700000</td>\n",
       "      <td>ya</td>\n",
       "      <td>2</td>\n",
       "    </tr>\n",
       "    <tr>\n",
       "      <th>19</th>\n",
       "      <td>20</td>\n",
       "      <td>Made Sengap</td>\n",
       "      <td>1991-06-15</td>\n",
       "      <td>Laki-laki</td>\n",
       "      <td>supir</td>\n",
       "      <td>4500</td>\n",
       "      <td>15000</td>\n",
       "      <td>ya</td>\n",
       "      <td>5</td>\n",
       "    </tr>\n",
       "    <tr>\n",
       "      <th>10</th>\n",
       "      <td>11</td>\n",
       "      <td>Made Santi</td>\n",
       "      <td>1995-01-01</td>\n",
       "      <td>Perempuan</td>\n",
       "      <td>dokter</td>\n",
       "      <td>6000</td>\n",
       "      <td>20000</td>\n",
       "      <td>tidak</td>\n",
       "      <td>0</td>\n",
       "    </tr>\n",
       "    <tr>\n",
       "      <th>1</th>\n",
       "      <td>2</td>\n",
       "      <td>Made Andi</td>\n",
       "      <td>1994-02-15</td>\n",
       "      <td>Laki-laki</td>\n",
       "      <td>perawat</td>\n",
       "      <td>4000</td>\n",
       "      <td>150000</td>\n",
       "      <td>ya</td>\n",
       "      <td>4</td>\n",
       "    </tr>\n",
       "    <tr>\n",
       "      <th>15</th>\n",
       "      <td>16</td>\n",
       "      <td>Luh Santidewi</td>\n",
       "      <td>1991-07-15</td>\n",
       "      <td>None</td>\n",
       "      <td>artis</td>\n",
       "      <td>7000</td>\n",
       "      <td>7000</td>\n",
       "      <td>ya</td>\n",
       "      <td>3</td>\n",
       "    </tr>\n",
       "    <tr>\n",
       "      <th>11</th>\n",
       "      <td>12</td>\n",
       "      <td>Luh Madeinbali</td>\n",
       "      <td>1994-01-02</td>\n",
       "      <td>None</td>\n",
       "      <td>perawat</td>\n",
       "      <td>7000</td>\n",
       "      <td>500</td>\n",
       "      <td>ya</td>\n",
       "      <td>4</td>\n",
       "    </tr>\n",
       "    <tr>\n",
       "      <th>8</th>\n",
       "      <td>9</td>\n",
       "      <td>Luh Ani</td>\n",
       "      <td>1987-08-22</td>\n",
       "      <td>Perempuan</td>\n",
       "      <td>dagang</td>\n",
       "      <td>5000</td>\n",
       "      <td>50000</td>\n",
       "      <td>ya</td>\n",
       "      <td>2</td>\n",
       "    </tr>\n",
       "    <tr>\n",
       "      <th>2</th>\n",
       "      <td>3</td>\n",
       "      <td>Komang Lukis</td>\n",
       "      <td>1993-03-16</td>\n",
       "      <td>Laki-laki</td>\n",
       "      <td>bidan</td>\n",
       "      <td>4000</td>\n",
       "      <td>200000</td>\n",
       "      <td>ya</td>\n",
       "      <td>3</td>\n",
       "    </tr>\n",
       "    <tr>\n",
       "      <th>13</th>\n",
       "      <td>14</td>\n",
       "      <td>Komang Dewi</td>\n",
       "      <td>1993-02-05</td>\n",
       "      <td>None</td>\n",
       "      <td>dokter</td>\n",
       "      <td>10000</td>\n",
       "      <td>25000</td>\n",
       "      <td>ya</td>\n",
       "      <td>2</td>\n",
       "    </tr>\n",
       "    <tr>\n",
       "      <th>7</th>\n",
       "      <td>8</td>\n",
       "      <td>Ketut Lama</td>\n",
       "      <td>1988-07-21</td>\n",
       "      <td>Laki-laki</td>\n",
       "      <td>supir</td>\n",
       "      <td>4000</td>\n",
       "      <td>2000</td>\n",
       "      <td>ya</td>\n",
       "      <td>1</td>\n",
       "    </tr>\n",
       "    <tr>\n",
       "      <th>12</th>\n",
       "      <td>13</td>\n",
       "      <td>Ketut Kusumadewi</td>\n",
       "      <td>1990-01-03</td>\n",
       "      <td>Perempuan</td>\n",
       "      <td>bidan</td>\n",
       "      <td>8000</td>\n",
       "      <td>10000</td>\n",
       "      <td>tidak</td>\n",
       "      <td>0</td>\n",
       "    </tr>\n",
       "    <tr>\n",
       "      <th>3</th>\n",
       "      <td>4</td>\n",
       "      <td>Ketut Koncreng</td>\n",
       "      <td>1992-04-17</td>\n",
       "      <td>Perempuan</td>\n",
       "      <td>buruh</td>\n",
       "      <td>3000</td>\n",
       "      <td>500</td>\n",
       "      <td>ya</td>\n",
       "      <td>2</td>\n",
       "    </tr>\n",
       "    <tr>\n",
       "      <th>18</th>\n",
       "      <td>19</td>\n",
       "      <td>Kadek Pekak</td>\n",
       "      <td>1992-05-14</td>\n",
       "      <td>Laki-laki</td>\n",
       "      <td>buruh</td>\n",
       "      <td>2500</td>\n",
       "      <td>9000</td>\n",
       "      <td>tidak</td>\n",
       "      <td>0</td>\n",
       "    </tr>\n",
       "    <tr>\n",
       "      <th>14</th>\n",
       "      <td>15</td>\n",
       "      <td>Kadek Dewiyani</td>\n",
       "      <td>1991-06-15</td>\n",
       "      <td>Perempuan</td>\n",
       "      <td>buruh</td>\n",
       "      <td>11000</td>\n",
       "      <td>35000</td>\n",
       "      <td>tidak</td>\n",
       "      <td>0</td>\n",
       "    </tr>\n",
       "    <tr>\n",
       "      <th>5</th>\n",
       "      <td>6</td>\n",
       "      <td>Kadek Bocok</td>\n",
       "      <td>1990-03-19</td>\n",
       "      <td>Laki-laki</td>\n",
       "      <td>supir</td>\n",
       "      <td>6000</td>\n",
       "      <td>1000</td>\n",
       "      <td>tidak</td>\n",
       "      <td>0</td>\n",
       "    </tr>\n",
       "  </tbody>\n",
       "</table>\n",
       "</div>"
      ],
      "text/plain": [
       "    No.              Nama Tanggal Lahir Jenis Kelamin Pekerjaan   Gaji  \\\n",
       "4     5       Wayan Bagus    1991-05-18     Laki-laki    dagang  10000   \n",
       "16   17       Putu Medewi    1992-06-16     Perempuan     buruh   3500   \n",
       "0     1        Putu Diana    1995-01-14     Perempuan    dokter   5000   \n",
       "17   18     Nyoman Madewi    1994-07-13     Perempuan    dagang   1500   \n",
       "6     7      Nyoman Jegeg    1989-06-20     Perempuan     artis   3000   \n",
       "9    10       Made Sengap    1986-09-23     Laki-laki     supir   3500   \n",
       "19   20       Made Sengap    1991-06-15     Laki-laki     supir   4500   \n",
       "10   11        Made Santi    1995-01-01     Perempuan    dokter   6000   \n",
       "1     2         Made Andi    1994-02-15     Laki-laki   perawat   4000   \n",
       "15   16     Luh Santidewi    1991-07-15          None     artis   7000   \n",
       "11   12    Luh Madeinbali    1994-01-02          None   perawat   7000   \n",
       "8     9           Luh Ani    1987-08-22     Perempuan    dagang   5000   \n",
       "2     3      Komang Lukis    1993-03-16     Laki-laki     bidan   4000   \n",
       "13   14       Komang Dewi    1993-02-05          None    dokter  10000   \n",
       "7     8        Ketut Lama    1988-07-21     Laki-laki     supir   4000   \n",
       "12   13  Ketut Kusumadewi    1990-01-03     Perempuan     bidan   8000   \n",
       "3     4    Ketut Koncreng    1992-04-17     Perempuan     buruh   3000   \n",
       "18   19       Kadek Pekak    1992-05-14     Laki-laki     buruh   2500   \n",
       "14   15    Kadek Dewiyani    1991-06-15     Perempuan     buruh  11000   \n",
       "5     6       Kadek Bocok    1990-03-19     Laki-laki     supir   6000   \n",
       "\n",
       "    Tabungan Menikah  Jumlah Anak  \n",
       "4     500000   tidak            0  \n",
       "16      5000   tidak            0  \n",
       "0     100000   tidak            0  \n",
       "17     75000      ya            6  \n",
       "6      50000   tidak            0  \n",
       "9     700000      ya            2  \n",
       "19     15000      ya            5  \n",
       "10     20000   tidak            0  \n",
       "1     150000      ya            4  \n",
       "15      7000      ya            3  \n",
       "11       500      ya            4  \n",
       "8      50000      ya            2  \n",
       "2     200000      ya            3  \n",
       "13     25000      ya            2  \n",
       "7       2000      ya            1  \n",
       "12     10000   tidak            0  \n",
       "3        500      ya            2  \n",
       "18      9000   tidak            0  \n",
       "14     35000   tidak            0  \n",
       "5       1000   tidak            0  "
      ]
     },
     "execution_count": 305,
     "metadata": {},
     "output_type": "execute_result"
    }
   ],
   "source": [
    "dt.sort_values('Nama', ascending=False)"
   ]
  },
  {
   "cell_type": "code",
   "execution_count": 306,
   "id": "d16e1b55",
   "metadata": {},
   "outputs": [
    {
     "data": {
      "text/html": [
       "<div>\n",
       "<style scoped>\n",
       "    .dataframe tbody tr th:only-of-type {\n",
       "        vertical-align: middle;\n",
       "    }\n",
       "\n",
       "    .dataframe tbody tr th {\n",
       "        vertical-align: top;\n",
       "    }\n",
       "\n",
       "    .dataframe thead th {\n",
       "        text-align: right;\n",
       "    }\n",
       "</style>\n",
       "<table border=\"1\" class=\"dataframe\">\n",
       "  <thead>\n",
       "    <tr style=\"text-align: right;\">\n",
       "      <th></th>\n",
       "      <th>No.</th>\n",
       "      <th>Nama</th>\n",
       "      <th>Tanggal Lahir</th>\n",
       "      <th>Jenis Kelamin</th>\n",
       "      <th>Pekerjaan</th>\n",
       "      <th>Gaji</th>\n",
       "      <th>Tabungan</th>\n",
       "      <th>Menikah</th>\n",
       "      <th>Jumlah Anak</th>\n",
       "    </tr>\n",
       "  </thead>\n",
       "  <tbody>\n",
       "    <tr>\n",
       "      <th>2</th>\n",
       "      <td>3</td>\n",
       "      <td>Komang Lukis</td>\n",
       "      <td>1993-03-16</td>\n",
       "      <td>Laki-laki</td>\n",
       "      <td>bidan</td>\n",
       "      <td>4000</td>\n",
       "      <td>200000</td>\n",
       "      <td>ya</td>\n",
       "      <td>3</td>\n",
       "    </tr>\n",
       "    <tr>\n",
       "      <th>18</th>\n",
       "      <td>19</td>\n",
       "      <td>Kadek Pekak</td>\n",
       "      <td>1992-05-14</td>\n",
       "      <td>Laki-laki</td>\n",
       "      <td>buruh</td>\n",
       "      <td>2500</td>\n",
       "      <td>9000</td>\n",
       "      <td>tidak</td>\n",
       "      <td>0</td>\n",
       "    </tr>\n",
       "    <tr>\n",
       "      <th>4</th>\n",
       "      <td>5</td>\n",
       "      <td>Wayan Bagus</td>\n",
       "      <td>1991-05-18</td>\n",
       "      <td>Laki-laki</td>\n",
       "      <td>dagang</td>\n",
       "      <td>10000</td>\n",
       "      <td>500000</td>\n",
       "      <td>tidak</td>\n",
       "      <td>0</td>\n",
       "    </tr>\n",
       "    <tr>\n",
       "      <th>1</th>\n",
       "      <td>2</td>\n",
       "      <td>Made Andi</td>\n",
       "      <td>1994-02-15</td>\n",
       "      <td>Laki-laki</td>\n",
       "      <td>perawat</td>\n",
       "      <td>4000</td>\n",
       "      <td>150000</td>\n",
       "      <td>ya</td>\n",
       "      <td>4</td>\n",
       "    </tr>\n",
       "    <tr>\n",
       "      <th>5</th>\n",
       "      <td>6</td>\n",
       "      <td>Kadek Bocok</td>\n",
       "      <td>1990-03-19</td>\n",
       "      <td>Laki-laki</td>\n",
       "      <td>supir</td>\n",
       "      <td>6000</td>\n",
       "      <td>1000</td>\n",
       "      <td>tidak</td>\n",
       "      <td>0</td>\n",
       "    </tr>\n",
       "    <tr>\n",
       "      <th>7</th>\n",
       "      <td>8</td>\n",
       "      <td>Ketut Lama</td>\n",
       "      <td>1988-07-21</td>\n",
       "      <td>Laki-laki</td>\n",
       "      <td>supir</td>\n",
       "      <td>4000</td>\n",
       "      <td>2000</td>\n",
       "      <td>ya</td>\n",
       "      <td>1</td>\n",
       "    </tr>\n",
       "    <tr>\n",
       "      <th>9</th>\n",
       "      <td>10</td>\n",
       "      <td>Made Sengap</td>\n",
       "      <td>1986-09-23</td>\n",
       "      <td>Laki-laki</td>\n",
       "      <td>supir</td>\n",
       "      <td>3500</td>\n",
       "      <td>700000</td>\n",
       "      <td>ya</td>\n",
       "      <td>2</td>\n",
       "    </tr>\n",
       "    <tr>\n",
       "      <th>19</th>\n",
       "      <td>20</td>\n",
       "      <td>Made Sengap</td>\n",
       "      <td>1991-06-15</td>\n",
       "      <td>Laki-laki</td>\n",
       "      <td>supir</td>\n",
       "      <td>4500</td>\n",
       "      <td>15000</td>\n",
       "      <td>ya</td>\n",
       "      <td>5</td>\n",
       "    </tr>\n",
       "    <tr>\n",
       "      <th>15</th>\n",
       "      <td>16</td>\n",
       "      <td>Luh Santidewi</td>\n",
       "      <td>1991-07-15</td>\n",
       "      <td>None</td>\n",
       "      <td>artis</td>\n",
       "      <td>7000</td>\n",
       "      <td>7000</td>\n",
       "      <td>ya</td>\n",
       "      <td>3</td>\n",
       "    </tr>\n",
       "    <tr>\n",
       "      <th>13</th>\n",
       "      <td>14</td>\n",
       "      <td>Komang Dewi</td>\n",
       "      <td>1993-02-05</td>\n",
       "      <td>None</td>\n",
       "      <td>dokter</td>\n",
       "      <td>10000</td>\n",
       "      <td>25000</td>\n",
       "      <td>ya</td>\n",
       "      <td>2</td>\n",
       "    </tr>\n",
       "    <tr>\n",
       "      <th>11</th>\n",
       "      <td>12</td>\n",
       "      <td>Luh Madeinbali</td>\n",
       "      <td>1994-01-02</td>\n",
       "      <td>None</td>\n",
       "      <td>perawat</td>\n",
       "      <td>7000</td>\n",
       "      <td>500</td>\n",
       "      <td>ya</td>\n",
       "      <td>4</td>\n",
       "    </tr>\n",
       "    <tr>\n",
       "      <th>6</th>\n",
       "      <td>7</td>\n",
       "      <td>Nyoman Jegeg</td>\n",
       "      <td>1989-06-20</td>\n",
       "      <td>Perempuan</td>\n",
       "      <td>artis</td>\n",
       "      <td>3000</td>\n",
       "      <td>50000</td>\n",
       "      <td>tidak</td>\n",
       "      <td>0</td>\n",
       "    </tr>\n",
       "    <tr>\n",
       "      <th>12</th>\n",
       "      <td>13</td>\n",
       "      <td>Ketut Kusumadewi</td>\n",
       "      <td>1990-01-03</td>\n",
       "      <td>Perempuan</td>\n",
       "      <td>bidan</td>\n",
       "      <td>8000</td>\n",
       "      <td>10000</td>\n",
       "      <td>tidak</td>\n",
       "      <td>0</td>\n",
       "    </tr>\n",
       "    <tr>\n",
       "      <th>3</th>\n",
       "      <td>4</td>\n",
       "      <td>Ketut Koncreng</td>\n",
       "      <td>1992-04-17</td>\n",
       "      <td>Perempuan</td>\n",
       "      <td>buruh</td>\n",
       "      <td>3000</td>\n",
       "      <td>500</td>\n",
       "      <td>ya</td>\n",
       "      <td>2</td>\n",
       "    </tr>\n",
       "    <tr>\n",
       "      <th>14</th>\n",
       "      <td>15</td>\n",
       "      <td>Kadek Dewiyani</td>\n",
       "      <td>1991-06-15</td>\n",
       "      <td>Perempuan</td>\n",
       "      <td>buruh</td>\n",
       "      <td>11000</td>\n",
       "      <td>35000</td>\n",
       "      <td>tidak</td>\n",
       "      <td>0</td>\n",
       "    </tr>\n",
       "    <tr>\n",
       "      <th>16</th>\n",
       "      <td>17</td>\n",
       "      <td>Putu Medewi</td>\n",
       "      <td>1992-06-16</td>\n",
       "      <td>Perempuan</td>\n",
       "      <td>buruh</td>\n",
       "      <td>3500</td>\n",
       "      <td>5000</td>\n",
       "      <td>tidak</td>\n",
       "      <td>0</td>\n",
       "    </tr>\n",
       "    <tr>\n",
       "      <th>8</th>\n",
       "      <td>9</td>\n",
       "      <td>Luh Ani</td>\n",
       "      <td>1987-08-22</td>\n",
       "      <td>Perempuan</td>\n",
       "      <td>dagang</td>\n",
       "      <td>5000</td>\n",
       "      <td>50000</td>\n",
       "      <td>ya</td>\n",
       "      <td>2</td>\n",
       "    </tr>\n",
       "    <tr>\n",
       "      <th>17</th>\n",
       "      <td>18</td>\n",
       "      <td>Nyoman Madewi</td>\n",
       "      <td>1994-07-13</td>\n",
       "      <td>Perempuan</td>\n",
       "      <td>dagang</td>\n",
       "      <td>1500</td>\n",
       "      <td>75000</td>\n",
       "      <td>ya</td>\n",
       "      <td>6</td>\n",
       "    </tr>\n",
       "    <tr>\n",
       "      <th>0</th>\n",
       "      <td>1</td>\n",
       "      <td>Putu Diana</td>\n",
       "      <td>1995-01-14</td>\n",
       "      <td>Perempuan</td>\n",
       "      <td>dokter</td>\n",
       "      <td>5000</td>\n",
       "      <td>100000</td>\n",
       "      <td>tidak</td>\n",
       "      <td>0</td>\n",
       "    </tr>\n",
       "    <tr>\n",
       "      <th>10</th>\n",
       "      <td>11</td>\n",
       "      <td>Made Santi</td>\n",
       "      <td>1995-01-01</td>\n",
       "      <td>Perempuan</td>\n",
       "      <td>dokter</td>\n",
       "      <td>6000</td>\n",
       "      <td>20000</td>\n",
       "      <td>tidak</td>\n",
       "      <td>0</td>\n",
       "    </tr>\n",
       "  </tbody>\n",
       "</table>\n",
       "</div>"
      ],
      "text/plain": [
       "    No.              Nama Tanggal Lahir Jenis Kelamin Pekerjaan   Gaji  \\\n",
       "2     3      Komang Lukis    1993-03-16     Laki-laki     bidan   4000   \n",
       "18   19       Kadek Pekak    1992-05-14     Laki-laki     buruh   2500   \n",
       "4     5       Wayan Bagus    1991-05-18     Laki-laki    dagang  10000   \n",
       "1     2         Made Andi    1994-02-15     Laki-laki   perawat   4000   \n",
       "5     6       Kadek Bocok    1990-03-19     Laki-laki     supir   6000   \n",
       "7     8        Ketut Lama    1988-07-21     Laki-laki     supir   4000   \n",
       "9    10       Made Sengap    1986-09-23     Laki-laki     supir   3500   \n",
       "19   20       Made Sengap    1991-06-15     Laki-laki     supir   4500   \n",
       "15   16     Luh Santidewi    1991-07-15          None     artis   7000   \n",
       "13   14       Komang Dewi    1993-02-05          None    dokter  10000   \n",
       "11   12    Luh Madeinbali    1994-01-02          None   perawat   7000   \n",
       "6     7      Nyoman Jegeg    1989-06-20     Perempuan     artis   3000   \n",
       "12   13  Ketut Kusumadewi    1990-01-03     Perempuan     bidan   8000   \n",
       "3     4    Ketut Koncreng    1992-04-17     Perempuan     buruh   3000   \n",
       "14   15    Kadek Dewiyani    1991-06-15     Perempuan     buruh  11000   \n",
       "16   17       Putu Medewi    1992-06-16     Perempuan     buruh   3500   \n",
       "8     9           Luh Ani    1987-08-22     Perempuan    dagang   5000   \n",
       "17   18     Nyoman Madewi    1994-07-13     Perempuan    dagang   1500   \n",
       "0     1        Putu Diana    1995-01-14     Perempuan    dokter   5000   \n",
       "10   11        Made Santi    1995-01-01     Perempuan    dokter   6000   \n",
       "\n",
       "    Tabungan Menikah  Jumlah Anak  \n",
       "2     200000      ya            3  \n",
       "18      9000   tidak            0  \n",
       "4     500000   tidak            0  \n",
       "1     150000      ya            4  \n",
       "5       1000   tidak            0  \n",
       "7       2000      ya            1  \n",
       "9     700000      ya            2  \n",
       "19     15000      ya            5  \n",
       "15      7000      ya            3  \n",
       "13     25000      ya            2  \n",
       "11       500      ya            4  \n",
       "6      50000   tidak            0  \n",
       "12     10000   tidak            0  \n",
       "3        500      ya            2  \n",
       "14     35000   tidak            0  \n",
       "16      5000   tidak            0  \n",
       "8      50000      ya            2  \n",
       "17     75000      ya            6  \n",
       "0     100000   tidak            0  \n",
       "10     20000   tidak            0  "
      ]
     },
     "execution_count": 306,
     "metadata": {},
     "output_type": "execute_result"
    }
   ],
   "source": [
    "dt.sort_values(['Jenis Kelamin','Pekerjaan'])"
   ]
  },
  {
   "cell_type": "code",
   "execution_count": 307,
   "id": "7d9bb073",
   "metadata": {},
   "outputs": [
    {
     "name": "stdout",
     "output_type": "stream",
     "text": [
      "    No.              Nama Tanggal Lahir Jenis Kelamin Pekerjaan   Gaji  \\\n",
      "0     1        Putu Diana    1995-01-14     Perempuan    dokter   5000   \n",
      "1     2         Made Andi    1994-02-15     Laki-laki   perawat   4000   \n",
      "2     3      Komang Lukis    1993-03-16     Laki-laki     bidan   4000   \n",
      "3     4    Ketut Koncreng    1992-04-17     Perempuan     buruh   3000   \n",
      "4     5       Wayan Bagus    1991-05-18     Laki-laki    dagang  10000   \n",
      "5     6       Kadek Bocok    1990-03-19     Laki-laki     supir   6000   \n",
      "6     7      Nyoman Jegeg    1989-06-20     Perempuan     artis   3000   \n",
      "7     8        Ketut Lama    1988-07-21     Laki-laki     supir   4000   \n",
      "8     9           Luh Ani    1987-08-22     Perempuan    dagang   5000   \n",
      "9    10       Made Sengap    1986-09-23     Laki-laki     supir   3500   \n",
      "10   11        Made Santi    1995-01-01     Perempuan    dokter   6000   \n",
      "11   12    Luh Madeinbali    1994-01-02          None   perawat   7000   \n",
      "12   13  Ketut Kusumadewi    1990-01-03     Perempuan     bidan   8000   \n",
      "13   14       Komang Dewi    1993-02-05          None    dokter  10000   \n",
      "14   15    Kadek Dewiyani    1991-06-15     Perempuan     buruh  11000   \n",
      "15   16     Luh Santidewi    1991-07-15          None     artis   7000   \n",
      "16   17       Putu Medewi    1992-06-16     Perempuan     buruh   3500   \n",
      "17   18     Nyoman Madewi    1994-07-13     Perempuan    dagang   1500   \n",
      "18   19       Kadek Pekak    1992-05-14     Laki-laki     buruh   2500   \n",
      "19   20       Made Sengap    1991-06-15     Laki-laki     supir   4500   \n",
      "\n",
      "    Tabungan Menikah  Jumlah Anak  Gaji Setahun  \n",
      "0     100000   tidak            0         60000  \n",
      "1     150000      ya            4         48000  \n",
      "2     200000      ya            3         48000  \n",
      "3        500      ya            2         36000  \n",
      "4     500000   tidak            0        120000  \n",
      "5       1000   tidak            0         72000  \n",
      "6      50000   tidak            0         36000  \n",
      "7       2000      ya            1         48000  \n",
      "8      50000      ya            2         60000  \n",
      "9     700000      ya            2         42000  \n",
      "10     20000   tidak            0         72000  \n",
      "11       500      ya            4         84000  \n",
      "12     10000   tidak            0         96000  \n",
      "13     25000      ya            2        120000  \n",
      "14     35000   tidak            0        132000  \n",
      "15      7000      ya            3         84000  \n",
      "16      5000   tidak            0         42000  \n",
      "17     75000      ya            6         18000  \n",
      "18      9000   tidak            0         30000  \n",
      "19     15000      ya            5         54000  \n"
     ]
    }
   ],
   "source": [
    "dt['Gaji Setahun']=12*dt['Gaji']\n",
    "print(dt)"
   ]
  },
  {
   "cell_type": "code",
   "execution_count": 308,
   "id": "17e91539",
   "metadata": {},
   "outputs": [
    {
     "name": "stdout",
     "output_type": "stream",
     "text": [
      "    No.              Nama Tanggal Lahir Jenis Kelamin Pekerjaan   Gaji  \\\n",
      "0     1        Putu Diana    1995-01-14     Perempuan    dokter   5000   \n",
      "1     2         Made Andi    1994-02-15     Laki-laki   perawat   4000   \n",
      "2     3      Komang Lukis    1993-03-16     Laki-laki     bidan   4000   \n",
      "3     4    Ketut Koncreng    1992-04-17     Perempuan     buruh   3000   \n",
      "4     5       Wayan Bagus    1991-05-18     Laki-laki    dagang  10000   \n",
      "5     6       Kadek Bocok    1990-03-19     Laki-laki     supir   6000   \n",
      "6     7      Nyoman Jegeg    1989-06-20     Perempuan     artis   3000   \n",
      "7     8        Ketut Lama    1988-07-21     Laki-laki     supir   4000   \n",
      "8     9           Luh Ani    1987-08-22     Perempuan    dagang   5000   \n",
      "9    10       Made Sengap    1986-09-23     Laki-laki     supir   3500   \n",
      "10   11        Made Santi    1995-01-01     Perempuan    dokter   6000   \n",
      "11   12    Luh Madeinbali    1994-01-02          None   perawat   7000   \n",
      "12   13  Ketut Kusumadewi    1990-01-03     Perempuan     bidan   8000   \n",
      "13   14       Komang Dewi    1993-02-05          None    dokter  10000   \n",
      "14   15    Kadek Dewiyani    1991-06-15     Perempuan     buruh  11000   \n",
      "15   16     Luh Santidewi    1991-07-15          None     artis   7000   \n",
      "16   17       Putu Medewi    1992-06-16     Perempuan     buruh   3500   \n",
      "17   18     Nyoman Madewi    1994-07-13     Perempuan    dagang   1500   \n",
      "18   19       Kadek Pekak    1992-05-14     Laki-laki     buruh   2500   \n",
      "19   20       Made Sengap    1991-06-15     Laki-laki     supir   4500   \n",
      "\n",
      "    Tabungan Menikah  Jumlah Anak  \n",
      "0     100000   tidak            0  \n",
      "1     150000      ya            4  \n",
      "2     200000      ya            3  \n",
      "3        500      ya            2  \n",
      "4     500000   tidak            0  \n",
      "5       1000   tidak            0  \n",
      "6      50000   tidak            0  \n",
      "7       2000      ya            1  \n",
      "8      50000      ya            2  \n",
      "9     700000      ya            2  \n",
      "10     20000   tidak            0  \n",
      "11       500      ya            4  \n",
      "12     10000   tidak            0  \n",
      "13     25000      ya            2  \n",
      "14     35000   tidak            0  \n",
      "15      7000      ya            3  \n",
      "16      5000   tidak            0  \n",
      "17     75000      ya            6  \n",
      "18      9000   tidak            0  \n",
      "19     15000      ya            5  \n"
     ]
    }
   ],
   "source": [
    "dt = dt.drop(columns=['Gaji Setahun'])\n",
    "print(dt)"
   ]
  },
  {
   "cell_type": "code",
   "execution_count": 309,
   "id": "a2289c97",
   "metadata": {},
   "outputs": [
    {
     "name": "stdout",
     "output_type": "stream",
     "text": [
      "    No.              Nama Tanggal Lahir Jenis Kelamin Pekerjaan   Gaji  \\\n",
      "0     1        Putu Diana    1995-01-14     Perempuan    dokter   5000   \n",
      "1     2         Made Andi    1994-02-15     Laki-laki   perawat   4000   \n",
      "2     3      Komang Lukis    1993-03-16     Laki-laki     bidan   4000   \n",
      "3     4    Ketut Koncreng    1992-04-17     Perempuan     buruh   3000   \n",
      "4     5       Wayan Bagus    1991-05-18     Laki-laki    dagang  10000   \n",
      "5     6       Kadek Bocok    1990-03-19     Laki-laki     supir   6000   \n",
      "6     7      Nyoman Jegeg    1989-06-20     Perempuan     artis   3000   \n",
      "7     8        Ketut Lama    1988-07-21     Laki-laki     supir   4000   \n",
      "8     9           Luh Ani    1987-08-22     Perempuan    dagang   5000   \n",
      "9    10       Made Sengap    1986-09-23     Laki-laki     supir   3500   \n",
      "10   11        Made Santi    1995-01-01     Perempuan    dokter   6000   \n",
      "11   12    Luh Madeinbali    1994-01-02     Perempuan   perawat   7000   \n",
      "12   13  Ketut Kusumadewi    1990-01-03     Perempuan     bidan   8000   \n",
      "13   14       Komang Dewi    1993-02-05     Perempuan    dokter  10000   \n",
      "14   15    Kadek Dewiyani    1991-06-15     Perempuan     buruh  11000   \n",
      "15   16     Luh Santidewi    1991-07-15     Perempuan     artis   7000   \n",
      "16   17       Putu Medewi    1992-06-16     Perempuan     buruh   3500   \n",
      "17   18     Nyoman Madewi    1994-07-13     Perempuan    dagang   1500   \n",
      "18   19       Kadek Pekak    1992-05-14     Laki-laki     buruh   2500   \n",
      "19   20       Made Sengap    1991-06-15     Laki-laki     supir   4500   \n",
      "\n",
      "    Tabungan Menikah  Jumlah Anak  \n",
      "0     100000   tidak            0  \n",
      "1     150000      ya            4  \n",
      "2     200000      ya            3  \n",
      "3        500      ya            2  \n",
      "4     500000   tidak            0  \n",
      "5       1000   tidak            0  \n",
      "6      50000   tidak            0  \n",
      "7       2000      ya            1  \n",
      "8      50000      ya            2  \n",
      "9     700000      ya            2  \n",
      "10     20000   tidak            0  \n",
      "11       500      ya            4  \n",
      "12     10000   tidak            0  \n",
      "13     25000      ya            2  \n",
      "14     35000   tidak            0  \n",
      "15      7000      ya            3  \n",
      "16      5000   tidak            0  \n",
      "17     75000      ya            6  \n",
      "18      9000   tidak            0  \n",
      "19     15000      ya            5  \n"
     ]
    }
   ],
   "source": [
    "dt['Jenis Kelamin']= dt['Jenis Kelamin'].replace(['None'],'Perempuan')\n",
    "print(dt)"
   ]
  },
  {
   "cell_type": "code",
   "execution_count": 310,
   "id": "f84b8ef4",
   "metadata": {},
   "outputs": [
    {
     "name": "stdout",
     "output_type": "stream",
     "text": [
      "    No.              Nama Tanggal Lahir Jenis Kelamin Pekerjaan   Gaji  \\\n",
      "0     1        Putu Diana    1995-01-14     Perempuan    dokter   5000   \n",
      "1     2         Made Andi    1994-02-15     Laki-laki   perawat   4000   \n",
      "2     3      Komang Lukis    1993-03-16     Laki-laki     bidan   4000   \n",
      "3     4    Ketut Koncreng    1992-04-17     Perempuan     buruh   3000   \n",
      "4     5       Wayan Bagus    1991-05-18     Laki-laki    dagang  10000   \n",
      "5     6       Kadek Bocok    1990-03-19     Laki-laki     supir   6000   \n",
      "6     7      Nyoman Jegeg    1989-06-20     Perempuan     artis   3000   \n",
      "7     8        Ketut Lama    1988-07-21     Laki-laki     supir   4000   \n",
      "8     9           Luh Ani    1987-08-22     Perempuan    dagang   5000   \n",
      "9    10       Made Sengap    1986-09-23     Laki-laki     supir   3500   \n",
      "10   11        Made Santi    1995-01-01     Perempuan    dokter   6000   \n",
      "11   12    Luh Madeinbali    1994-01-02     Perempuan   perawat   7000   \n",
      "12   13  Ketut Kusumadewi    1990-01-03     Perempuan     bidan   8000   \n",
      "13   14       Komang Dewi    1993-02-05     Perempuan    dokter  10000   \n",
      "14   15    Kadek Dewiyani    1991-06-15     Perempuan     buruh  11000   \n",
      "15   16     Luh Santidewi    1991-07-15     Perempuan     artis   7000   \n",
      "16   17       Putu Medewi    1992-06-16     Perempuan     buruh   3500   \n",
      "17   18     Nyoman Madewi    1994-07-13     Perempuan    dagang   1500   \n",
      "18   19       Kadek Pekak    1992-05-14     Laki-laki     buruh   2500   \n",
      "19   20       Made Sengap    1991-06-15     Laki-laki     supir   4500   \n",
      "\n",
      "    Tabungan Menikah  Jumlah Anak  Jumlah Uang  \n",
      "0     100000   tidak            0       105000  \n",
      "1     150000      ya            4       154000  \n",
      "2     200000      ya            3       204000  \n",
      "3        500      ya            2         3500  \n",
      "4     500000   tidak            0       510000  \n",
      "5       1000   tidak            0         7000  \n",
      "6      50000   tidak            0        53000  \n",
      "7       2000      ya            1         6000  \n",
      "8      50000      ya            2        55000  \n",
      "9     700000      ya            2       703500  \n",
      "10     20000   tidak            0        26000  \n",
      "11       500      ya            4         7500  \n",
      "12     10000   tidak            0        18000  \n",
      "13     25000      ya            2        35000  \n",
      "14     35000   tidak            0        46000  \n",
      "15      7000      ya            3        14000  \n",
      "16      5000   tidak            0         8500  \n",
      "17     75000      ya            6        76500  \n",
      "18      9000   tidak            0        11500  \n",
      "19     15000      ya            5        19500  \n"
     ]
    }
   ],
   "source": [
    "dt['Jumlah Uang']= dt.iloc[:,5:7].sum(axis=1)\n",
    "print(dt)"
   ]
  },
  {
   "cell_type": "code",
   "execution_count": 311,
   "id": "c3a79f7d",
   "metadata": {},
   "outputs": [],
   "source": [
    "dt.to_csv('data_palsu_baru.txt',index=False, sep ='\\t')"
   ]
  },
  {
   "cell_type": "code",
   "execution_count": 312,
   "id": "c902c4ec",
   "metadata": {},
   "outputs": [
    {
     "name": "stdout",
     "output_type": "stream",
     "text": [
      "   No.\\tNama\\tTanggal Lahir\\tJenis Kelamin\\tPekerjaan\\tGaji\\tTabungan\\tMenikah\\tJumlah Anak\\tJumlah Uang\n",
      "0   1\\tPutu Diana\\t1995-01-14\\tPerempuan\\tdokter\\t...                                                   \n",
      "1   2\\tMade Andi\\t1994-02-15\\tLaki-laki\\tperawat\\t...                                                   \n",
      "2   3\\tKomang Lukis\\t1993-03-16\\tLaki-laki\\tbidan\\...                                                   \n",
      "3   4\\tKetut Koncreng\\t1992-04-17\\tPerempuan\\tburu...                                                   \n",
      "4   5\\tWayan Bagus\\t1991-05-18\\tLaki-laki\\tdagang\\...                                                   \n",
      "5   6\\tKadek Bocok\\t1990-03-19\\tLaki-laki\\tsupir\\t...                                                   \n",
      "6   7\\tNyoman Jegeg\\t1989-06-20\\tPerempuan\\tartis\\...                                                   \n",
      "7   8\\tKetut Lama\\t1988-07-21\\tLaki-laki\\tsupir\\t4...                                                   \n",
      "8   9\\tLuh Ani\\t1987-08-22\\tPerempuan\\tdagang\\t500...                                                   \n",
      "9   10\\tMade Sengap\\t1986-09-23\\tLaki-laki\\tsupir\\...                                                   \n",
      "10  11\\tMade Santi\\t1995-01-01\\tPerempuan\\tdokter\\...                                                   \n",
      "11  12\\tLuh Madeinbali\\t1994-01-02\\tPerempuan\\tper...                                                   \n",
      "12  13\\tKetut Kusumadewi\\t1990-01-03\\tPerempuan\\tb...                                                   \n",
      "13  14\\tKomang Dewi\\t1993-02-05\\tPerempuan\\tdokter...                                                   \n",
      "14  15\\tKadek Dewiyani\\t1991-06-15\\tPerempuan\\tbur...                                                   \n",
      "15  16\\tLuh Santidewi\\t1991-07-15\\tPerempuan\\tarti...                                                   \n",
      "16  17\\tPutu Medewi\\t1992-06-16\\tPerempuan\\tburuh\\...                                                   \n",
      "17  18\\tNyoman Madewi\\t1994-07-13\\tPerempuan\\tdaga...                                                   \n",
      "18  19\\tKadek Pekak\\t1992-05-14\\tLaki-laki\\tburuh\\...                                                   \n",
      "19  20\\tMade Sengap\\t1991-06-15\\tLaki-laki\\tsupir\\...                                                   \n"
     ]
    }
   ],
   "source": [
    "data = pd.read_csv('data_palsu_baru.txt')\n",
    "print(data)"
   ]
  },
  {
   "cell_type": "code",
   "execution_count": 313,
   "id": "ea54bd05",
   "metadata": {},
   "outputs": [
    {
     "data": {
      "text/html": [
       "<div>\n",
       "<style scoped>\n",
       "    .dataframe tbody tr th:only-of-type {\n",
       "        vertical-align: middle;\n",
       "    }\n",
       "\n",
       "    .dataframe tbody tr th {\n",
       "        vertical-align: top;\n",
       "    }\n",
       "\n",
       "    .dataframe thead th {\n",
       "        text-align: right;\n",
       "    }\n",
       "</style>\n",
       "<table border=\"1\" class=\"dataframe\">\n",
       "  <thead>\n",
       "    <tr style=\"text-align: right;\">\n",
       "      <th></th>\n",
       "      <th>No.</th>\n",
       "      <th>Nama</th>\n",
       "      <th>Tanggal Lahir</th>\n",
       "      <th>Jenis Kelamin</th>\n",
       "      <th>Pekerjaan</th>\n",
       "      <th>Gaji</th>\n",
       "      <th>Tabungan</th>\n",
       "      <th>Menikah</th>\n",
       "      <th>Jumlah Anak</th>\n",
       "      <th>Jumlah Uang</th>\n",
       "    </tr>\n",
       "  </thead>\n",
       "  <tbody>\n",
       "    <tr>\n",
       "      <th>1</th>\n",
       "      <td>2</td>\n",
       "      <td>Made Andi</td>\n",
       "      <td>1994-02-15</td>\n",
       "      <td>Laki-laki</td>\n",
       "      <td>perawat</td>\n",
       "      <td>4000</td>\n",
       "      <td>150000</td>\n",
       "      <td>ya</td>\n",
       "      <td>4</td>\n",
       "      <td>154000</td>\n",
       "    </tr>\n",
       "    <tr>\n",
       "      <th>2</th>\n",
       "      <td>3</td>\n",
       "      <td>Komang Lukis</td>\n",
       "      <td>1993-03-16</td>\n",
       "      <td>Laki-laki</td>\n",
       "      <td>bidan</td>\n",
       "      <td>4000</td>\n",
       "      <td>200000</td>\n",
       "      <td>ya</td>\n",
       "      <td>3</td>\n",
       "      <td>204000</td>\n",
       "    </tr>\n",
       "    <tr>\n",
       "      <th>4</th>\n",
       "      <td>5</td>\n",
       "      <td>Wayan Bagus</td>\n",
       "      <td>1991-05-18</td>\n",
       "      <td>Laki-laki</td>\n",
       "      <td>dagang</td>\n",
       "      <td>10000</td>\n",
       "      <td>500000</td>\n",
       "      <td>tidak</td>\n",
       "      <td>0</td>\n",
       "      <td>510000</td>\n",
       "    </tr>\n",
       "    <tr>\n",
       "      <th>5</th>\n",
       "      <td>6</td>\n",
       "      <td>Kadek Bocok</td>\n",
       "      <td>1990-03-19</td>\n",
       "      <td>Laki-laki</td>\n",
       "      <td>supir</td>\n",
       "      <td>6000</td>\n",
       "      <td>1000</td>\n",
       "      <td>tidak</td>\n",
       "      <td>0</td>\n",
       "      <td>7000</td>\n",
       "    </tr>\n",
       "    <tr>\n",
       "      <th>7</th>\n",
       "      <td>8</td>\n",
       "      <td>Ketut Lama</td>\n",
       "      <td>1988-07-21</td>\n",
       "      <td>Laki-laki</td>\n",
       "      <td>supir</td>\n",
       "      <td>4000</td>\n",
       "      <td>2000</td>\n",
       "      <td>ya</td>\n",
       "      <td>1</td>\n",
       "      <td>6000</td>\n",
       "    </tr>\n",
       "    <tr>\n",
       "      <th>9</th>\n",
       "      <td>10</td>\n",
       "      <td>Made Sengap</td>\n",
       "      <td>1986-09-23</td>\n",
       "      <td>Laki-laki</td>\n",
       "      <td>supir</td>\n",
       "      <td>3500</td>\n",
       "      <td>700000</td>\n",
       "      <td>ya</td>\n",
       "      <td>2</td>\n",
       "      <td>703500</td>\n",
       "    </tr>\n",
       "    <tr>\n",
       "      <th>18</th>\n",
       "      <td>19</td>\n",
       "      <td>Kadek Pekak</td>\n",
       "      <td>1992-05-14</td>\n",
       "      <td>Laki-laki</td>\n",
       "      <td>buruh</td>\n",
       "      <td>2500</td>\n",
       "      <td>9000</td>\n",
       "      <td>tidak</td>\n",
       "      <td>0</td>\n",
       "      <td>11500</td>\n",
       "    </tr>\n",
       "    <tr>\n",
       "      <th>19</th>\n",
       "      <td>20</td>\n",
       "      <td>Made Sengap</td>\n",
       "      <td>1991-06-15</td>\n",
       "      <td>Laki-laki</td>\n",
       "      <td>supir</td>\n",
       "      <td>4500</td>\n",
       "      <td>15000</td>\n",
       "      <td>ya</td>\n",
       "      <td>5</td>\n",
       "      <td>19500</td>\n",
       "    </tr>\n",
       "  </tbody>\n",
       "</table>\n",
       "</div>"
      ],
      "text/plain": [
       "    No.          Nama Tanggal Lahir Jenis Kelamin Pekerjaan   Gaji  Tabungan  \\\n",
       "1     2     Made Andi    1994-02-15     Laki-laki   perawat   4000    150000   \n",
       "2     3  Komang Lukis    1993-03-16     Laki-laki     bidan   4000    200000   \n",
       "4     5   Wayan Bagus    1991-05-18     Laki-laki    dagang  10000    500000   \n",
       "5     6   Kadek Bocok    1990-03-19     Laki-laki     supir   6000      1000   \n",
       "7     8    Ketut Lama    1988-07-21     Laki-laki     supir   4000      2000   \n",
       "9    10   Made Sengap    1986-09-23     Laki-laki     supir   3500    700000   \n",
       "18   19   Kadek Pekak    1992-05-14     Laki-laki     buruh   2500      9000   \n",
       "19   20   Made Sengap    1991-06-15     Laki-laki     supir   4500     15000   \n",
       "\n",
       "   Menikah  Jumlah Anak  Jumlah Uang  \n",
       "1       ya            4       154000  \n",
       "2       ya            3       204000  \n",
       "4    tidak            0       510000  \n",
       "5    tidak            0         7000  \n",
       "7       ya            1         6000  \n",
       "9       ya            2       703500  \n",
       "18   tidak            0        11500  \n",
       "19      ya            5        19500  "
      ]
     },
     "execution_count": 313,
     "metadata": {},
     "output_type": "execute_result"
    }
   ],
   "source": [
    "dt.loc[dt['Jenis Kelamin']=='Laki-laki']"
   ]
  },
  {
   "cell_type": "code",
   "execution_count": 314,
   "id": "e2818a7b",
   "metadata": {},
   "outputs": [
    {
     "data": {
      "text/html": [
       "<div>\n",
       "<style scoped>\n",
       "    .dataframe tbody tr th:only-of-type {\n",
       "        vertical-align: middle;\n",
       "    }\n",
       "\n",
       "    .dataframe tbody tr th {\n",
       "        vertical-align: top;\n",
       "    }\n",
       "\n",
       "    .dataframe thead th {\n",
       "        text-align: right;\n",
       "    }\n",
       "</style>\n",
       "<table border=\"1\" class=\"dataframe\">\n",
       "  <thead>\n",
       "    <tr style=\"text-align: right;\">\n",
       "      <th></th>\n",
       "      <th>No.</th>\n",
       "      <th>Gaji</th>\n",
       "      <th>Tabungan</th>\n",
       "      <th>Jumlah Anak</th>\n",
       "      <th>Jumlah Uang</th>\n",
       "    </tr>\n",
       "    <tr>\n",
       "      <th>Jenis Kelamin</th>\n",
       "      <th></th>\n",
       "      <th></th>\n",
       "      <th></th>\n",
       "      <th></th>\n",
       "      <th></th>\n",
       "    </tr>\n",
       "  </thead>\n",
       "  <tbody>\n",
       "    <tr>\n",
       "      <th>Laki-laki</th>\n",
       "      <td>9.125000</td>\n",
       "      <td>4812.500000</td>\n",
       "      <td>197125.0</td>\n",
       "      <td>1.875000</td>\n",
       "      <td>201937.500000</td>\n",
       "    </tr>\n",
       "    <tr>\n",
       "      <th>Perempuan</th>\n",
       "      <td>11.416667</td>\n",
       "      <td>5833.333333</td>\n",
       "      <td>31500.0</td>\n",
       "      <td>1.583333</td>\n",
       "      <td>37333.333333</td>\n",
       "    </tr>\n",
       "  </tbody>\n",
       "</table>\n",
       "</div>"
      ],
      "text/plain": [
       "                     No.         Gaji  Tabungan  Jumlah Anak    Jumlah Uang\n",
       "Jenis Kelamin                                                              \n",
       "Laki-laki       9.125000  4812.500000  197125.0     1.875000  201937.500000\n",
       "Perempuan      11.416667  5833.333333   31500.0     1.583333   37333.333333"
      ]
     },
     "execution_count": 314,
     "metadata": {},
     "output_type": "execute_result"
    }
   ],
   "source": [
    "dt.groupby(['Jenis Kelamin']).mean()"
   ]
  },
  {
   "cell_type": "code",
   "execution_count": 315,
   "id": "fd45a95d",
   "metadata": {},
   "outputs": [
    {
     "data": {
      "text/html": [
       "<div>\n",
       "<style scoped>\n",
       "    .dataframe tbody tr th:only-of-type {\n",
       "        vertical-align: middle;\n",
       "    }\n",
       "\n",
       "    .dataframe tbody tr th {\n",
       "        vertical-align: top;\n",
       "    }\n",
       "\n",
       "    .dataframe thead th {\n",
       "        text-align: right;\n",
       "    }\n",
       "</style>\n",
       "<table border=\"1\" class=\"dataframe\">\n",
       "  <thead>\n",
       "    <tr style=\"text-align: right;\">\n",
       "      <th></th>\n",
       "      <th>No.</th>\n",
       "      <th>Gaji</th>\n",
       "      <th>Jumlah Anak</th>\n",
       "      <th>Jumlah Uang</th>\n",
       "    </tr>\n",
       "    <tr>\n",
       "      <th>Tabungan</th>\n",
       "      <th></th>\n",
       "      <th></th>\n",
       "      <th></th>\n",
       "      <th></th>\n",
       "    </tr>\n",
       "  </thead>\n",
       "  <tbody>\n",
       "    <tr>\n",
       "      <th>500</th>\n",
       "      <td>16</td>\n",
       "      <td>10000</td>\n",
       "      <td>6</td>\n",
       "      <td>11000</td>\n",
       "    </tr>\n",
       "    <tr>\n",
       "      <th>1000</th>\n",
       "      <td>6</td>\n",
       "      <td>6000</td>\n",
       "      <td>0</td>\n",
       "      <td>7000</td>\n",
       "    </tr>\n",
       "    <tr>\n",
       "      <th>2000</th>\n",
       "      <td>8</td>\n",
       "      <td>4000</td>\n",
       "      <td>1</td>\n",
       "      <td>6000</td>\n",
       "    </tr>\n",
       "    <tr>\n",
       "      <th>5000</th>\n",
       "      <td>17</td>\n",
       "      <td>3500</td>\n",
       "      <td>0</td>\n",
       "      <td>8500</td>\n",
       "    </tr>\n",
       "    <tr>\n",
       "      <th>7000</th>\n",
       "      <td>16</td>\n",
       "      <td>7000</td>\n",
       "      <td>3</td>\n",
       "      <td>14000</td>\n",
       "    </tr>\n",
       "    <tr>\n",
       "      <th>9000</th>\n",
       "      <td>19</td>\n",
       "      <td>2500</td>\n",
       "      <td>0</td>\n",
       "      <td>11500</td>\n",
       "    </tr>\n",
       "    <tr>\n",
       "      <th>10000</th>\n",
       "      <td>13</td>\n",
       "      <td>8000</td>\n",
       "      <td>0</td>\n",
       "      <td>18000</td>\n",
       "    </tr>\n",
       "    <tr>\n",
       "      <th>15000</th>\n",
       "      <td>20</td>\n",
       "      <td>4500</td>\n",
       "      <td>5</td>\n",
       "      <td>19500</td>\n",
       "    </tr>\n",
       "    <tr>\n",
       "      <th>20000</th>\n",
       "      <td>11</td>\n",
       "      <td>6000</td>\n",
       "      <td>0</td>\n",
       "      <td>26000</td>\n",
       "    </tr>\n",
       "    <tr>\n",
       "      <th>25000</th>\n",
       "      <td>14</td>\n",
       "      <td>10000</td>\n",
       "      <td>2</td>\n",
       "      <td>35000</td>\n",
       "    </tr>\n",
       "    <tr>\n",
       "      <th>35000</th>\n",
       "      <td>15</td>\n",
       "      <td>11000</td>\n",
       "      <td>0</td>\n",
       "      <td>46000</td>\n",
       "    </tr>\n",
       "    <tr>\n",
       "      <th>50000</th>\n",
       "      <td>16</td>\n",
       "      <td>8000</td>\n",
       "      <td>2</td>\n",
       "      <td>108000</td>\n",
       "    </tr>\n",
       "    <tr>\n",
       "      <th>75000</th>\n",
       "      <td>18</td>\n",
       "      <td>1500</td>\n",
       "      <td>6</td>\n",
       "      <td>76500</td>\n",
       "    </tr>\n",
       "    <tr>\n",
       "      <th>100000</th>\n",
       "      <td>1</td>\n",
       "      <td>5000</td>\n",
       "      <td>0</td>\n",
       "      <td>105000</td>\n",
       "    </tr>\n",
       "    <tr>\n",
       "      <th>150000</th>\n",
       "      <td>2</td>\n",
       "      <td>4000</td>\n",
       "      <td>4</td>\n",
       "      <td>154000</td>\n",
       "    </tr>\n",
       "    <tr>\n",
       "      <th>200000</th>\n",
       "      <td>3</td>\n",
       "      <td>4000</td>\n",
       "      <td>3</td>\n",
       "      <td>204000</td>\n",
       "    </tr>\n",
       "    <tr>\n",
       "      <th>500000</th>\n",
       "      <td>5</td>\n",
       "      <td>10000</td>\n",
       "      <td>0</td>\n",
       "      <td>510000</td>\n",
       "    </tr>\n",
       "    <tr>\n",
       "      <th>700000</th>\n",
       "      <td>10</td>\n",
       "      <td>3500</td>\n",
       "      <td>2</td>\n",
       "      <td>703500</td>\n",
       "    </tr>\n",
       "  </tbody>\n",
       "</table>\n",
       "</div>"
      ],
      "text/plain": [
       "          No.   Gaji  Jumlah Anak  Jumlah Uang\n",
       "Tabungan                                      \n",
       "500        16  10000            6        11000\n",
       "1000        6   6000            0         7000\n",
       "2000        8   4000            1         6000\n",
       "5000       17   3500            0         8500\n",
       "7000       16   7000            3        14000\n",
       "9000       19   2500            0        11500\n",
       "10000      13   8000            0        18000\n",
       "15000      20   4500            5        19500\n",
       "20000      11   6000            0        26000\n",
       "25000      14  10000            2        35000\n",
       "35000      15  11000            0        46000\n",
       "50000      16   8000            2       108000\n",
       "75000      18   1500            6        76500\n",
       "100000      1   5000            0       105000\n",
       "150000      2   4000            4       154000\n",
       "200000      3   4000            3       204000\n",
       "500000      5  10000            0       510000\n",
       "700000     10   3500            2       703500"
      ]
     },
     "execution_count": 315,
     "metadata": {},
     "output_type": "execute_result"
    }
   ],
   "source": [
    "dt.groupby(['Tabungan']).sum()"
   ]
  },
  {
   "cell_type": "code",
   "execution_count": 316,
   "id": "7304312f",
   "metadata": {},
   "outputs": [
    {
     "data": {
      "text/html": [
       "<div>\n",
       "<style scoped>\n",
       "    .dataframe tbody tr th:only-of-type {\n",
       "        vertical-align: middle;\n",
       "    }\n",
       "\n",
       "    .dataframe tbody tr th {\n",
       "        vertical-align: top;\n",
       "    }\n",
       "\n",
       "    .dataframe thead th {\n",
       "        text-align: right;\n",
       "    }\n",
       "</style>\n",
       "<table border=\"1\" class=\"dataframe\">\n",
       "  <thead>\n",
       "    <tr style=\"text-align: right;\">\n",
       "      <th></th>\n",
       "      <th>No.</th>\n",
       "      <th>Nama</th>\n",
       "      <th>Tanggal Lahir</th>\n",
       "      <th>Jenis Kelamin</th>\n",
       "      <th>Pekerjaan</th>\n",
       "      <th>Gaji</th>\n",
       "      <th>Tabungan</th>\n",
       "      <th>Menikah</th>\n",
       "      <th>Jumlah Uang</th>\n",
       "    </tr>\n",
       "    <tr>\n",
       "      <th>Jumlah Anak</th>\n",
       "      <th></th>\n",
       "      <th></th>\n",
       "      <th></th>\n",
       "      <th></th>\n",
       "      <th></th>\n",
       "      <th></th>\n",
       "      <th></th>\n",
       "      <th></th>\n",
       "      <th></th>\n",
       "    </tr>\n",
       "  </thead>\n",
       "  <tbody>\n",
       "    <tr>\n",
       "      <th>0</th>\n",
       "      <td>9</td>\n",
       "      <td>9</td>\n",
       "      <td>9</td>\n",
       "      <td>9</td>\n",
       "      <td>9</td>\n",
       "      <td>9</td>\n",
       "      <td>9</td>\n",
       "      <td>9</td>\n",
       "      <td>9</td>\n",
       "    </tr>\n",
       "    <tr>\n",
       "      <th>1</th>\n",
       "      <td>1</td>\n",
       "      <td>1</td>\n",
       "      <td>1</td>\n",
       "      <td>1</td>\n",
       "      <td>1</td>\n",
       "      <td>1</td>\n",
       "      <td>1</td>\n",
       "      <td>1</td>\n",
       "      <td>1</td>\n",
       "    </tr>\n",
       "    <tr>\n",
       "      <th>2</th>\n",
       "      <td>4</td>\n",
       "      <td>4</td>\n",
       "      <td>4</td>\n",
       "      <td>4</td>\n",
       "      <td>4</td>\n",
       "      <td>4</td>\n",
       "      <td>4</td>\n",
       "      <td>4</td>\n",
       "      <td>4</td>\n",
       "    </tr>\n",
       "    <tr>\n",
       "      <th>3</th>\n",
       "      <td>2</td>\n",
       "      <td>2</td>\n",
       "      <td>2</td>\n",
       "      <td>2</td>\n",
       "      <td>2</td>\n",
       "      <td>2</td>\n",
       "      <td>2</td>\n",
       "      <td>2</td>\n",
       "      <td>2</td>\n",
       "    </tr>\n",
       "    <tr>\n",
       "      <th>4</th>\n",
       "      <td>2</td>\n",
       "      <td>2</td>\n",
       "      <td>2</td>\n",
       "      <td>2</td>\n",
       "      <td>2</td>\n",
       "      <td>2</td>\n",
       "      <td>2</td>\n",
       "      <td>2</td>\n",
       "      <td>2</td>\n",
       "    </tr>\n",
       "    <tr>\n",
       "      <th>5</th>\n",
       "      <td>1</td>\n",
       "      <td>1</td>\n",
       "      <td>1</td>\n",
       "      <td>1</td>\n",
       "      <td>1</td>\n",
       "      <td>1</td>\n",
       "      <td>1</td>\n",
       "      <td>1</td>\n",
       "      <td>1</td>\n",
       "    </tr>\n",
       "    <tr>\n",
       "      <th>6</th>\n",
       "      <td>1</td>\n",
       "      <td>1</td>\n",
       "      <td>1</td>\n",
       "      <td>1</td>\n",
       "      <td>1</td>\n",
       "      <td>1</td>\n",
       "      <td>1</td>\n",
       "      <td>1</td>\n",
       "      <td>1</td>\n",
       "    </tr>\n",
       "  </tbody>\n",
       "</table>\n",
       "</div>"
      ],
      "text/plain": [
       "             No.  Nama  Tanggal Lahir  Jenis Kelamin  Pekerjaan  Gaji  \\\n",
       "Jumlah Anak                                                             \n",
       "0              9     9              9              9          9     9   \n",
       "1              1     1              1              1          1     1   \n",
       "2              4     4              4              4          4     4   \n",
       "3              2     2              2              2          2     2   \n",
       "4              2     2              2              2          2     2   \n",
       "5              1     1              1              1          1     1   \n",
       "6              1     1              1              1          1     1   \n",
       "\n",
       "             Tabungan  Menikah  Jumlah Uang  \n",
       "Jumlah Anak                                  \n",
       "0                   9        9            9  \n",
       "1                   1        1            1  \n",
       "2                   4        4            4  \n",
       "3                   2        2            2  \n",
       "4                   2        2            2  \n",
       "5                   1        1            1  \n",
       "6                   1        1            1  "
      ]
     },
     "execution_count": 316,
     "metadata": {},
     "output_type": "execute_result"
    }
   ],
   "source": [
    "dt.groupby(['Jumlah Anak']).count()"
   ]
  },
  {
   "cell_type": "code",
   "execution_count": 317,
   "id": "d6902bd6",
   "metadata": {},
   "outputs": [
    {
     "data": {
      "text/html": [
       "<div>\n",
       "<style scoped>\n",
       "    .dataframe tbody tr th:only-of-type {\n",
       "        vertical-align: middle;\n",
       "    }\n",
       "\n",
       "    .dataframe tbody tr th {\n",
       "        vertical-align: top;\n",
       "    }\n",
       "\n",
       "    .dataframe thead th {\n",
       "        text-align: right;\n",
       "    }\n",
       "</style>\n",
       "<table border=\"1\" class=\"dataframe\">\n",
       "  <thead>\n",
       "    <tr style=\"text-align: right;\">\n",
       "      <th></th>\n",
       "      <th>No.</th>\n",
       "      <th>Gaji</th>\n",
       "      <th>Tabungan</th>\n",
       "      <th>Jumlah Anak</th>\n",
       "      <th>Jumlah Uang</th>\n",
       "    </tr>\n",
       "    <tr>\n",
       "      <th>Pekerjaan</th>\n",
       "      <th></th>\n",
       "      <th></th>\n",
       "      <th></th>\n",
       "      <th></th>\n",
       "      <th></th>\n",
       "    </tr>\n",
       "  </thead>\n",
       "  <tbody>\n",
       "    <tr>\n",
       "      <th>supir</th>\n",
       "      <td>11.000000</td>\n",
       "      <td>4500.0</td>\n",
       "      <td>179500.000000</td>\n",
       "      <td>2.000000</td>\n",
       "      <td>184000.000000</td>\n",
       "    </tr>\n",
       "    <tr>\n",
       "      <th>artis</th>\n",
       "      <td>11.500000</td>\n",
       "      <td>5000.0</td>\n",
       "      <td>28500.000000</td>\n",
       "      <td>1.500000</td>\n",
       "      <td>33500.000000</td>\n",
       "    </tr>\n",
       "    <tr>\n",
       "      <th>buruh</th>\n",
       "      <td>13.750000</td>\n",
       "      <td>5000.0</td>\n",
       "      <td>12375.000000</td>\n",
       "      <td>0.500000</td>\n",
       "      <td>17375.000000</td>\n",
       "    </tr>\n",
       "    <tr>\n",
       "      <th>dagang</th>\n",
       "      <td>10.666667</td>\n",
       "      <td>5500.0</td>\n",
       "      <td>208333.333333</td>\n",
       "      <td>2.666667</td>\n",
       "      <td>213833.333333</td>\n",
       "    </tr>\n",
       "    <tr>\n",
       "      <th>perawat</th>\n",
       "      <td>7.000000</td>\n",
       "      <td>5500.0</td>\n",
       "      <td>75250.000000</td>\n",
       "      <td>4.000000</td>\n",
       "      <td>80750.000000</td>\n",
       "    </tr>\n",
       "    <tr>\n",
       "      <th>bidan</th>\n",
       "      <td>8.000000</td>\n",
       "      <td>6000.0</td>\n",
       "      <td>105000.000000</td>\n",
       "      <td>1.500000</td>\n",
       "      <td>111000.000000</td>\n",
       "    </tr>\n",
       "    <tr>\n",
       "      <th>dokter</th>\n",
       "      <td>8.666667</td>\n",
       "      <td>7000.0</td>\n",
       "      <td>48333.333333</td>\n",
       "      <td>0.666667</td>\n",
       "      <td>55333.333333</td>\n",
       "    </tr>\n",
       "  </tbody>\n",
       "</table>\n",
       "</div>"
      ],
      "text/plain": [
       "                 No.    Gaji       Tabungan  Jumlah Anak    Jumlah Uang\n",
       "Pekerjaan                                                              \n",
       "supir      11.000000  4500.0  179500.000000     2.000000  184000.000000\n",
       "artis      11.500000  5000.0   28500.000000     1.500000   33500.000000\n",
       "buruh      13.750000  5000.0   12375.000000     0.500000   17375.000000\n",
       "dagang     10.666667  5500.0  208333.333333     2.666667  213833.333333\n",
       "perawat     7.000000  5500.0   75250.000000     4.000000   80750.000000\n",
       "bidan       8.000000  6000.0  105000.000000     1.500000  111000.000000\n",
       "dokter      8.666667  7000.0   48333.333333     0.666667   55333.333333"
      ]
     },
     "execution_count": 317,
     "metadata": {},
     "output_type": "execute_result"
    }
   ],
   "source": [
    "dt.groupby(['Pekerjaan']).mean().sort_values('Gaji',ascending=True)"
   ]
  },
  {
   "cell_type": "code",
   "execution_count": 318,
   "id": "925b3bf9",
   "metadata": {},
   "outputs": [
    {
     "name": "stdout",
     "output_type": "stream",
     "text": [
      "    No.              Nama Tanggal Lahir Jenis Kelamin Pekerjaan   Gaji  \\\n",
      "0     1        Putu Diana    1995-01-14     Perempuan    dokter   5000   \n",
      "1     2         Made Andi    1994-02-15     Laki-laki   perawat   4000   \n",
      "2     3      Komang Lukis    1993-03-16     Laki-laki     bidan   4000   \n",
      "3     4    Ketut Koncreng    1992-04-17     Perempuan     buruh   3000   \n",
      "4     5       Wayan Bagus    1991-05-18     Laki-laki    dagang  10000   \n",
      "5     6       Kadek Bocok    1990-03-19     Laki-laki     supir   6000   \n",
      "6     7      Nyoman Jegeg    1989-06-20     Perempuan     artis   3000   \n",
      "7     8        Ketut Lama    1988-07-21     Laki-laki     supir   4000   \n",
      "8     9           Luh Ani    1987-08-22     Perempuan    dagang   5000   \n",
      "9    10       Made Sengap    1986-09-23     Laki-laki     supir   3500   \n",
      "10   11        Made Santi    1995-01-01     Perempuan    dokter   6000   \n",
      "11   12    Luh Madeinbali    1994-01-02     Perempuan   perawat   7000   \n",
      "12   13  Ketut Kusumadewi    1990-01-03     Perempuan     bidan   8000   \n",
      "13   14       Komang Dewi    1993-02-05     Perempuan    dokter  10000   \n",
      "14   15    Kadek Dewiyani    1991-06-15     Perempuan     buruh  11000   \n",
      "15   16     Luh Santidewi    1991-07-15     Perempuan     artis   7000   \n",
      "16   17       Putu Medewi    1992-06-16     Perempuan     buruh   3500   \n",
      "17   18     Nyoman Madewi    1994-07-13     Perempuan    dagang   1500   \n",
      "18   19       Kadek Pekak    1992-05-14     Laki-laki     buruh   2500   \n",
      "19   20       Made Sengap    1991-06-15     Laki-laki     supir   4500   \n",
      "\n",
      "    Tabungan Menikah  Jumlah Anak  Jumlah Uang  \n",
      "0     100000   tidak            0       105000  \n",
      "1     150000      ya            4       154000  \n",
      "2     200000      ya            3       204000  \n",
      "3        500      ya            2         3500  \n",
      "4     500000   tidak            0       510000  \n",
      "5       1000   tidak            0         7000  \n",
      "6      50000   tidak            0        53000  \n",
      "7       2000      ya            1         6000  \n",
      "8      50000      ya            2        55000  \n",
      "9     700000      ya            2       703500  \n",
      "10     20000   tidak            0        26000  \n",
      "11       500      ya            4         7500  \n",
      "12     10000   tidak            0        18000  \n",
      "13     25000      ya            2        35000  \n",
      "14     35000   tidak            0        46000  \n",
      "15      7000      ya            3        14000  \n",
      "16      5000   tidak            0         8500  \n",
      "17     75000      ya            6        76500  \n",
      "18      9000   tidak            0        11500  \n",
      "19     15000      ya            5        19500  \n"
     ]
    }
   ],
   "source": [
    "data2 = pd.read_csv('data_palsu_baru.txt', delimiter='\\t')\n",
    "print(data2)"
   ]
  },
  {
   "cell_type": "code",
   "execution_count": 319,
   "id": "1c7f574b",
   "metadata": {},
   "outputs": [
    {
     "data": {
      "text/html": [
       "<div>\n",
       "<style scoped>\n",
       "    .dataframe tbody tr th:only-of-type {\n",
       "        vertical-align: middle;\n",
       "    }\n",
       "\n",
       "    .dataframe tbody tr th {\n",
       "        vertical-align: top;\n",
       "    }\n",
       "\n",
       "    .dataframe thead th {\n",
       "        text-align: right;\n",
       "    }\n",
       "</style>\n",
       "<table border=\"1\" class=\"dataframe\">\n",
       "  <thead>\n",
       "    <tr style=\"text-align: right;\">\n",
       "      <th></th>\n",
       "      <th>No.</th>\n",
       "      <th>Nama</th>\n",
       "      <th>Tanggal Lahir</th>\n",
       "      <th>Jenis Kelamin</th>\n",
       "      <th>Pekerjaan</th>\n",
       "      <th>Gaji</th>\n",
       "      <th>Tabungan</th>\n",
       "      <th>Menikah</th>\n",
       "      <th>Jumlah Anak</th>\n",
       "      <th>Jumlah Uang</th>\n",
       "    </tr>\n",
       "  </thead>\n",
       "  <tbody>\n",
       "    <tr>\n",
       "      <th>5</th>\n",
       "      <td>6</td>\n",
       "      <td>Kadek Bocok</td>\n",
       "      <td>1990-03-19</td>\n",
       "      <td>Laki-laki</td>\n",
       "      <td>supir</td>\n",
       "      <td>6000</td>\n",
       "      <td>1000</td>\n",
       "      <td>tidak</td>\n",
       "      <td>0</td>\n",
       "      <td>7000</td>\n",
       "    </tr>\n",
       "    <tr>\n",
       "      <th>7</th>\n",
       "      <td>8</td>\n",
       "      <td>Ketut Lama</td>\n",
       "      <td>1988-07-21</td>\n",
       "      <td>Laki-laki</td>\n",
       "      <td>supir</td>\n",
       "      <td>4000</td>\n",
       "      <td>2000</td>\n",
       "      <td>ya</td>\n",
       "      <td>1</td>\n",
       "      <td>6000</td>\n",
       "    </tr>\n",
       "    <tr>\n",
       "      <th>9</th>\n",
       "      <td>10</td>\n",
       "      <td>Made Sengap</td>\n",
       "      <td>1986-09-23</td>\n",
       "      <td>Laki-laki</td>\n",
       "      <td>supir</td>\n",
       "      <td>3500</td>\n",
       "      <td>700000</td>\n",
       "      <td>ya</td>\n",
       "      <td>2</td>\n",
       "      <td>703500</td>\n",
       "    </tr>\n",
       "    <tr>\n",
       "      <th>19</th>\n",
       "      <td>20</td>\n",
       "      <td>Made Sengap</td>\n",
       "      <td>1991-06-15</td>\n",
       "      <td>Laki-laki</td>\n",
       "      <td>supir</td>\n",
       "      <td>4500</td>\n",
       "      <td>15000</td>\n",
       "      <td>ya</td>\n",
       "      <td>5</td>\n",
       "      <td>19500</td>\n",
       "    </tr>\n",
       "  </tbody>\n",
       "</table>\n",
       "</div>"
      ],
      "text/plain": [
       "    No.         Nama Tanggal Lahir Jenis Kelamin Pekerjaan  Gaji  Tabungan  \\\n",
       "5     6  Kadek Bocok    1990-03-19     Laki-laki     supir  6000      1000   \n",
       "7     8   Ketut Lama    1988-07-21     Laki-laki     supir  4000      2000   \n",
       "9    10  Made Sengap    1986-09-23     Laki-laki     supir  3500    700000   \n",
       "19   20  Made Sengap    1991-06-15     Laki-laki     supir  4500     15000   \n",
       "\n",
       "   Menikah  Jumlah Anak  Jumlah Uang  \n",
       "5    tidak            0         7000  \n",
       "7       ya            1         6000  \n",
       "9       ya            2       703500  \n",
       "19      ya            5        19500  "
      ]
     },
     "execution_count": 319,
     "metadata": {},
     "output_type": "execute_result"
    }
   ],
   "source": [
    "dt.loc[(dt['Jenis Kelamin']=='Laki-laki')&\n",
    "      (dt['Pekerjaan'] == 'supir')]"
   ]
  },
  {
   "cell_type": "code",
   "execution_count": 320,
   "id": "0e0c0696",
   "metadata": {},
   "outputs": [
    {
     "data": {
      "text/html": [
       "<div>\n",
       "<style scoped>\n",
       "    .dataframe tbody tr th:only-of-type {\n",
       "        vertical-align: middle;\n",
       "    }\n",
       "\n",
       "    .dataframe tbody tr th {\n",
       "        vertical-align: top;\n",
       "    }\n",
       "\n",
       "    .dataframe thead th {\n",
       "        text-align: right;\n",
       "    }\n",
       "</style>\n",
       "<table border=\"1\" class=\"dataframe\">\n",
       "  <thead>\n",
       "    <tr style=\"text-align: right;\">\n",
       "      <th></th>\n",
       "      <th>No.</th>\n",
       "      <th>Nama</th>\n",
       "      <th>Tanggal Lahir</th>\n",
       "      <th>Jenis Kelamin</th>\n",
       "      <th>Pekerjaan</th>\n",
       "      <th>Gaji</th>\n",
       "      <th>Tabungan</th>\n",
       "      <th>Menikah</th>\n",
       "      <th>Jumlah Anak</th>\n",
       "      <th>Jumlah Uang</th>\n",
       "    </tr>\n",
       "  </thead>\n",
       "  <tbody>\n",
       "    <tr>\n",
       "      <th>0</th>\n",
       "      <td>1</td>\n",
       "      <td>Putu Diana</td>\n",
       "      <td>1995-01-14</td>\n",
       "      <td>Perempuan</td>\n",
       "      <td>dokter</td>\n",
       "      <td>5000</td>\n",
       "      <td>100000</td>\n",
       "      <td>tidak</td>\n",
       "      <td>0</td>\n",
       "      <td>105000</td>\n",
       "    </tr>\n",
       "    <tr>\n",
       "      <th>16</th>\n",
       "      <td>17</td>\n",
       "      <td>Putu Medewi</td>\n",
       "      <td>1992-06-16</td>\n",
       "      <td>Perempuan</td>\n",
       "      <td>buruh</td>\n",
       "      <td>3500</td>\n",
       "      <td>5000</td>\n",
       "      <td>tidak</td>\n",
       "      <td>0</td>\n",
       "      <td>8500</td>\n",
       "    </tr>\n",
       "  </tbody>\n",
       "</table>\n",
       "</div>"
      ],
      "text/plain": [
       "    No.         Nama Tanggal Lahir Jenis Kelamin Pekerjaan  Gaji  Tabungan  \\\n",
       "0     1   Putu Diana    1995-01-14     Perempuan    dokter  5000    100000   \n",
       "16   17  Putu Medewi    1992-06-16     Perempuan     buruh  3500      5000   \n",
       "\n",
       "   Menikah  Jumlah Anak  Jumlah Uang  \n",
       "0    tidak            0       105000  \n",
       "16   tidak            0         8500  "
      ]
     },
     "execution_count": 320,
     "metadata": {},
     "output_type": "execute_result"
    }
   ],
   "source": [
    "dt.loc[dt['Nama'].str.contains('Putu')]"
   ]
  },
  {
   "cell_type": "code",
   "execution_count": 321,
   "id": "ac7a9b83",
   "metadata": {},
   "outputs": [],
   "source": [
    "import re"
   ]
  },
  {
   "cell_type": "code",
   "execution_count": 322,
   "id": "23a873f5",
   "metadata": {},
   "outputs": [
    {
     "data": {
      "text/html": [
       "<div>\n",
       "<style scoped>\n",
       "    .dataframe tbody tr th:only-of-type {\n",
       "        vertical-align: middle;\n",
       "    }\n",
       "\n",
       "    .dataframe tbody tr th {\n",
       "        vertical-align: top;\n",
       "    }\n",
       "\n",
       "    .dataframe thead th {\n",
       "        text-align: right;\n",
       "    }\n",
       "</style>\n",
       "<table border=\"1\" class=\"dataframe\">\n",
       "  <thead>\n",
       "    <tr style=\"text-align: right;\">\n",
       "      <th></th>\n",
       "      <th>No.</th>\n",
       "      <th>Nama</th>\n",
       "      <th>Tanggal Lahir</th>\n",
       "      <th>Jenis Kelamin</th>\n",
       "      <th>Pekerjaan</th>\n",
       "      <th>Gaji</th>\n",
       "      <th>Tabungan</th>\n",
       "      <th>Menikah</th>\n",
       "      <th>Jumlah Anak</th>\n",
       "      <th>Jumlah Uang</th>\n",
       "    </tr>\n",
       "  </thead>\n",
       "  <tbody>\n",
       "    <tr>\n",
       "      <th>1</th>\n",
       "      <td>2</td>\n",
       "      <td>Made Andi</td>\n",
       "      <td>1994-02-15</td>\n",
       "      <td>Laki-laki</td>\n",
       "      <td>perawat</td>\n",
       "      <td>4000</td>\n",
       "      <td>150000</td>\n",
       "      <td>ya</td>\n",
       "      <td>4</td>\n",
       "      <td>154000</td>\n",
       "    </tr>\n",
       "    <tr>\n",
       "      <th>3</th>\n",
       "      <td>4</td>\n",
       "      <td>Ketut Koncreng</td>\n",
       "      <td>1992-04-17</td>\n",
       "      <td>Perempuan</td>\n",
       "      <td>buruh</td>\n",
       "      <td>3000</td>\n",
       "      <td>500</td>\n",
       "      <td>ya</td>\n",
       "      <td>2</td>\n",
       "      <td>3500</td>\n",
       "    </tr>\n",
       "    <tr>\n",
       "      <th>7</th>\n",
       "      <td>8</td>\n",
       "      <td>Ketut Lama</td>\n",
       "      <td>1988-07-21</td>\n",
       "      <td>Laki-laki</td>\n",
       "      <td>supir</td>\n",
       "      <td>4000</td>\n",
       "      <td>2000</td>\n",
       "      <td>ya</td>\n",
       "      <td>1</td>\n",
       "      <td>6000</td>\n",
       "    </tr>\n",
       "    <tr>\n",
       "      <th>9</th>\n",
       "      <td>10</td>\n",
       "      <td>Made Sengap</td>\n",
       "      <td>1986-09-23</td>\n",
       "      <td>Laki-laki</td>\n",
       "      <td>supir</td>\n",
       "      <td>3500</td>\n",
       "      <td>700000</td>\n",
       "      <td>ya</td>\n",
       "      <td>2</td>\n",
       "      <td>703500</td>\n",
       "    </tr>\n",
       "    <tr>\n",
       "      <th>10</th>\n",
       "      <td>11</td>\n",
       "      <td>Made Santi</td>\n",
       "      <td>1995-01-01</td>\n",
       "      <td>Perempuan</td>\n",
       "      <td>dokter</td>\n",
       "      <td>6000</td>\n",
       "      <td>20000</td>\n",
       "      <td>tidak</td>\n",
       "      <td>0</td>\n",
       "      <td>26000</td>\n",
       "    </tr>\n",
       "    <tr>\n",
       "      <th>11</th>\n",
       "      <td>12</td>\n",
       "      <td>Luh Madeinbali</td>\n",
       "      <td>1994-01-02</td>\n",
       "      <td>Perempuan</td>\n",
       "      <td>perawat</td>\n",
       "      <td>7000</td>\n",
       "      <td>500</td>\n",
       "      <td>ya</td>\n",
       "      <td>4</td>\n",
       "      <td>7500</td>\n",
       "    </tr>\n",
       "    <tr>\n",
       "      <th>12</th>\n",
       "      <td>13</td>\n",
       "      <td>Ketut Kusumadewi</td>\n",
       "      <td>1990-01-03</td>\n",
       "      <td>Perempuan</td>\n",
       "      <td>bidan</td>\n",
       "      <td>8000</td>\n",
       "      <td>10000</td>\n",
       "      <td>tidak</td>\n",
       "      <td>0</td>\n",
       "      <td>18000</td>\n",
       "    </tr>\n",
       "    <tr>\n",
       "      <th>17</th>\n",
       "      <td>18</td>\n",
       "      <td>Nyoman Madewi</td>\n",
       "      <td>1994-07-13</td>\n",
       "      <td>Perempuan</td>\n",
       "      <td>dagang</td>\n",
       "      <td>1500</td>\n",
       "      <td>75000</td>\n",
       "      <td>ya</td>\n",
       "      <td>6</td>\n",
       "      <td>76500</td>\n",
       "    </tr>\n",
       "    <tr>\n",
       "      <th>19</th>\n",
       "      <td>20</td>\n",
       "      <td>Made Sengap</td>\n",
       "      <td>1991-06-15</td>\n",
       "      <td>Laki-laki</td>\n",
       "      <td>supir</td>\n",
       "      <td>4500</td>\n",
       "      <td>15000</td>\n",
       "      <td>ya</td>\n",
       "      <td>5</td>\n",
       "      <td>19500</td>\n",
       "    </tr>\n",
       "  </tbody>\n",
       "</table>\n",
       "</div>"
      ],
      "text/plain": [
       "    No.              Nama Tanggal Lahir Jenis Kelamin Pekerjaan  Gaji  \\\n",
       "1     2         Made Andi    1994-02-15     Laki-laki   perawat  4000   \n",
       "3     4    Ketut Koncreng    1992-04-17     Perempuan     buruh  3000   \n",
       "7     8        Ketut Lama    1988-07-21     Laki-laki     supir  4000   \n",
       "9    10       Made Sengap    1986-09-23     Laki-laki     supir  3500   \n",
       "10   11        Made Santi    1995-01-01     Perempuan    dokter  6000   \n",
       "11   12    Luh Madeinbali    1994-01-02     Perempuan   perawat  7000   \n",
       "12   13  Ketut Kusumadewi    1990-01-03     Perempuan     bidan  8000   \n",
       "17   18     Nyoman Madewi    1994-07-13     Perempuan    dagang  1500   \n",
       "19   20       Made Sengap    1991-06-15     Laki-laki     supir  4500   \n",
       "\n",
       "    Tabungan Menikah  Jumlah Anak  Jumlah Uang  \n",
       "1     150000      ya            4       154000  \n",
       "3        500      ya            2         3500  \n",
       "7       2000      ya            1         6000  \n",
       "9     700000      ya            2       703500  \n",
       "10     20000   tidak            0        26000  \n",
       "11       500      ya            4         7500  \n",
       "12     10000   tidak            0        18000  \n",
       "17     75000      ya            6        76500  \n",
       "19     15000      ya            5        19500  "
      ]
     },
     "execution_count": 322,
     "metadata": {},
     "output_type": "execute_result"
    }
   ],
   "source": [
    "dt.loc[dt['Nama'].str.contains('Made|Ketut', regex=True)]"
   ]
  },
  {
   "cell_type": "code",
   "execution_count": 323,
   "id": "9be5ebb9",
   "metadata": {},
   "outputs": [],
   "source": [
    "import numpy as np\n",
    "import pandas as pd\n",
    "import matplotlib.pyplot as plt"
   ]
  },
  {
   "cell_type": "code",
   "execution_count": 324,
   "id": "a6808293",
   "metadata": {},
   "outputs": [
    {
     "data": {
      "text/plain": [
       "Text(0, 0.5, 'Y')"
      ]
     },
     "execution_count": 324,
     "metadata": {},
     "output_type": "execute_result"
    },
    {
     "data": {
      "image/png": "[encoded data removed]",
      "text/plain": [
       "<Figure size 432x288 with 1 Axes>"
      ]
     },
     "metadata": {
      "needs_background": "light"
     },
     "output_type": "display_data"
    }
   ],
   "source": [
    "x = [1,2,3]\n",
    "y = [2,4,6]\n",
    "\n",
    "plt.plot(x,y)\n",
    "plt.title(\"Grafik y=2x\")\n",
    "plt.xlabel('X')\n",
    "plt.ylabel('Y')"
   ]
  },
  {
   "cell_type": "code",
   "execution_count": 334,
   "id": "f71ce6da",
   "metadata": {},
   "outputs": [
    {
     "data": {
      "image/png": "[encoded data removed]",
      "text/plain": [
       "<Figure size 600x600 with 1 Axes>"
      ]
     },
     "metadata": {
      "needs_background": "light"
     },
     "output_type": "display_data"
    }
   ],
   "source": [
    "x= [-7,-6,-5,-4,-3,-2,-1,0,1,2,3,4,5,6,7]\n",
    "y= [49,36,25,16,9,4,1,0,1,4,9,16,25,36,49]\n",
    "x1= [-2,-1,0,1,2,3,4,5,6,7]\n",
    "y1= [-3,1,5,9,13,17,21,25,29,33]\n",
    "\n",
    "plt.figure(figsize=(2,2),dpi=300)\n",
    "plt.plot(x,y,label='y=x^2',color='blue',linewidth=3,marker='*',markersize=8,markeredgecolor='pink',linestyle='-.')\n",
    "plt.plot(x1,y1)\n",
    "plt.title('Grafik y=x^2', fontdict={'fontname':'Comic Sans MS','fontsize':20})\n",
    "plt.xlabel('X',fontdict={'fontname':'Times New Roman','fontsize':18})\n",
    "plt.ylabel('Y',fontdict={'fontname':'Times New Roman','fontsize':18})\n",
    "plt.xticks([-7,-6,-5,-4,-3,-2,-1,0,1,2,3,4,5,6,7])\n",
    "plt.yticks([49,36,25,16,9,4,1,0,1,4,9,16,25,36,49])\n",
    "plt.legend()\n",
    "plt.savefig('grafik.png',dpi=300)\n",
    "plt.show()"
   ]
  },
  {
   "cell_type": "code",
   "execution_count": 326,
   "id": "7e09daa5",
   "metadata": {},
   "outputs": [
    {
     "data": {
      "text/plain": [
       "<BarContainer object of 2 artists>"
      ]
     },
     "execution_count": 326,
     "metadata": {},
     "output_type": "execute_result"
    },
    {
     "data": {
      "image/png": "[encoded data removed]",
      "text/plain": [
       "<Figure size 432x288 with 1 Axes>"
      ]
     },
     "metadata": {
      "needs_background": "light"
     },
     "output_type": "display_data"
    }
   ],
   "source": [
    "gender = ['Mahasiswa', 'Mahasiswi']\n",
    "jumlah = [55,75]\n",
    "plt.bar(gender,jumlah)"
   ]
  },
  {
   "cell_type": "code",
   "execution_count": 331,
   "id": "4bc92d64",
   "metadata": {},
   "outputs": [
    {
     "data": {
      "image/png": "[encoded data removed]",
      "text/plain": [
       "<Figure size 576x288 with 1 Axes>"
      ]
     },
     "metadata": {
      "needs_background": "light"
     },
     "output_type": "display_data"
    }
   ],
   "source": [
    "penyanyi = ['Armand', 'Ariel', 'Once', 'Ari Lasso']\n",
    "penggemar = [99,49,29,150]\n",
    "\n",
    "plt.figure(figsize=(8,4))\n",
    "histogram = plt.bar(penyanyi, penggemar, color = 'pink')\n",
    "\n",
    "histogram[0].set_hatch('x')\n",
    "histogram[1].set_hatch('*')\n",
    "histogram[2].set_hatch('.')\n",
    "histogram[3].set_hatch('/')\n",
    "plt.show()"
   ]
  },
  {
   "cell_type": "code",
   "execution_count": 333,
   "id": "661e81de",
   "metadata": {},
   "outputs": [
    {
     "data": {
      "image/png": "[encoded data removed]",
      "text/plain": [
       "<Figure size 576x288 with 1 Axes>"
      ]
     },
     "metadata": {
      "needs_background": "light"
     },
     "output_type": "display_data"
    }
   ],
   "source": [
    "penyanyi = ['Armand', 'Ariel', 'Once', 'Ari Lasso']\n",
    "penggemar = [100,29,50,150]\n",
    "\n",
    "plt.figure(figsize=(8,4))\n",
    "hist = plt.bar(penyanyi,penggemar,color='pink')\n",
    "pola = ['#','*','.','/']\n",
    "\n",
    "for i in [1,2,3]:\n",
    "    hist[i].set_hatch(pola[i])\n",
    "    \n",
    "plt.show()"
   ]
  },
  {
   "cell_type": "code",
   "execution_count": null,
   "id": "1c829a29",
   "metadata": {},
   "outputs": [],
   "source": []
  }
 ],
 "metadata": {
  "kernelspec": {
   "display_name": "Python 3 (ipykernel)",
   "language": "python",
   "name": "python3"
  },
  "language_info": {
   "codemirror_mode": {
    "name": "ipython",
    "version": 3
   },
   "file_extension": ".py",
   "mimetype": "text/x-python",
   "name": "python",
   "nbconvert_exporter": "python",
   "pygments_lexer": "ipython3",
   "version": "3.9.7"
  }
 },
 "nbformat": 4,
 "nbformat_minor": 5
}
